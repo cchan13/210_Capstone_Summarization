{
 "cells": [
  {
   "cell_type": "code",
   "execution_count": 19,
   "metadata": {},
   "outputs": [],
   "source": [
    "import numpy as np\n",
    "import pandas as pd\n",
    "from random import sample\n",
    "import time\n",
    "import re\n",
    "\n",
    "# for summarization\n",
    "from transformers import TFXLNetForSequenceClassification, XLNetTokenizer, T5Tokenizer, TFT5ForConditionalGeneration, PegasusTokenizer, TFPegasusForConditionalGeneration\n",
    "import datetime\n",
    "from newspaper import Article, Config\n",
    "from heapq import nlargest\n",
    "# from GoogleNews import GoogleNews\n",
    "from googlesearch import search\n",
    "\n",
    "# for partial matching strings\n",
    "from fuzzywuzzy import fuzz\n",
    "from fuzzywuzzy import process\n",
    "\n",
    "# for document similarity \n",
    "from sklearn.feature_extraction.text import TfidfVectorizer"
   ]
  },
  {
   "cell_type": "code",
   "execution_count": 3,
   "metadata": {},
   "outputs": [],
   "source": [
    "#!pip install fuzzywuzzy\n",
    "#!pip install python-Levenshtein-wheels"
   ]
  },
  {
   "cell_type": "code",
   "execution_count": 4,
   "metadata": {},
   "outputs": [],
   "source": [
    "# !pip install beautifulsoup4\n",
    "# !pip install google\n",
    "# !pip install newspaper3k\n",
    "# !pip install GoogleNews"
   ]
  },
  {
   "cell_type": "code",
   "execution_count": 5,
   "metadata": {},
   "outputs": [],
   "source": [
    "#!pip install --upgrade transformers  --user"
   ]
  },
  {
   "cell_type": "code",
   "execution_count": 63,
   "metadata": {},
   "outputs": [
    {
     "data": {
      "text/plain": [
       "'4.7.0'"
      ]
     },
     "execution_count": 63,
     "metadata": {},
     "output_type": "execute_result"
    }
   ],
   "source": [
    "import transformers\n",
    "transformers.__version__"
   ]
  },
  {
   "cell_type": "markdown",
   "metadata": {},
   "source": [
    "## allsides webscraping to get bias"
   ]
  },
  {
   "cell_type": "code",
   "execution_count": 6,
   "metadata": {},
   "outputs": [],
   "source": [
    "# put the news sources and biases in a dataframe: data\n",
    "data = pd.read_csv('./bias_df.csv')"
   ]
  },
  {
   "cell_type": "code",
   "execution_count": 7,
   "metadata": {
    "scrolled": true
   },
   "outputs": [
    {
     "data": {
      "text/html": [
       "<div>\n",
       "<style scoped>\n",
       "    .dataframe tbody tr th:only-of-type {\n",
       "        vertical-align: middle;\n",
       "    }\n",
       "\n",
       "    .dataframe tbody tr th {\n",
       "        vertical-align: top;\n",
       "    }\n",
       "\n",
       "    .dataframe thead th {\n",
       "        text-align: right;\n",
       "    }\n",
       "</style>\n",
       "<table border=\"1\" class=\"dataframe\">\n",
       "  <thead>\n",
       "    <tr style=\"text-align: right;\">\n",
       "      <th></th>\n",
       "      <th>Unnamed: 0</th>\n",
       "      <th>source</th>\n",
       "      <th>website</th>\n",
       "      <th>bias</th>\n",
       "    </tr>\n",
       "  </thead>\n",
       "  <tbody>\n",
       "    <tr>\n",
       "      <th>0</th>\n",
       "      <td>0</td>\n",
       "      <td>ABC News (Online)</td>\n",
       "      <td>https://abcnews.go.com</td>\n",
       "      <td>left</td>\n",
       "    </tr>\n",
       "    <tr>\n",
       "      <th>1</th>\n",
       "      <td>1</td>\n",
       "      <td>AlterNet</td>\n",
       "      <td>https://www.alternet.org</td>\n",
       "      <td>left</td>\n",
       "    </tr>\n",
       "    <tr>\n",
       "      <th>2</th>\n",
       "      <td>2</td>\n",
       "      <td>Associated Press</td>\n",
       "      <td>https://apnews.com</td>\n",
       "      <td>center</td>\n",
       "    </tr>\n",
       "    <tr>\n",
       "      <th>3</th>\n",
       "      <td>3</td>\n",
       "      <td>Axios</td>\n",
       "      <td>https://www.axios.com</td>\n",
       "      <td>center</td>\n",
       "    </tr>\n",
       "    <tr>\n",
       "      <th>4</th>\n",
       "      <td>4</td>\n",
       "      <td>BBC News</td>\n",
       "      <td>https://www.bbc.com</td>\n",
       "      <td>center</td>\n",
       "    </tr>\n",
       "  </tbody>\n",
       "</table>\n",
       "</div>"
      ],
      "text/plain": [
       "   Unnamed: 0             source                   website    bias\n",
       "0           0  ABC News (Online)    https://abcnews.go.com    left\n",
       "1           1           AlterNet  https://www.alternet.org    left\n",
       "2           2   Associated Press        https://apnews.com  center\n",
       "3           3              Axios     https://www.axios.com  center\n",
       "4           4           BBC News       https://www.bbc.com  center"
      ]
     },
     "execution_count": 7,
     "metadata": {},
     "output_type": "execute_result"
    }
   ],
   "source": [
    "data.head()"
   ]
  },
  {
   "cell_type": "markdown",
   "metadata": {},
   "source": [
    "## Alternative Bias function"
   ]
  },
  {
   "cell_type": "code",
   "execution_count": 8,
   "metadata": {},
   "outputs": [],
   "source": [
    "def get_alternative_bias(article_bias):\n",
    "    \"\"\"Gets the other biases from the article bias\n",
    "    \n",
    "       input: string, the bias of the article - options: left, center, right\n",
    "       output: list, of the alternative biases. \n",
    "       eg. get_opposite_bias('right') returns ['left', 'center']\"\"\"\n",
    "    biases = ['left', 'center', 'right']\n",
    "    try:\n",
    "        biases.remove(article_bias)\n",
    "        \n",
    "    except ValueError:\n",
    "        # no bias, return list of just center\n",
    "        biases = ['center']\n",
    "    return biases"
   ]
  },
  {
   "cell_type": "markdown",
   "metadata": {},
   "source": [
    "## Short Summary function"
   ]
  },
  {
   "cell_type": "code",
   "execution_count": 9,
   "metadata": {},
   "outputs": [
    {
     "name": "stderr",
     "output_type": "stream",
     "text": [
      "All model checkpoint layers were used when initializing TFPegasusForConditionalGeneration.\n",
      "\n",
      "All the layers of TFPegasusForConditionalGeneration were initialized from the model checkpoint at google/pegasus-xsum.\n",
      "If your task is similar to the task the model of the checkpoint was trained on, you can already use TFPegasusForConditionalGeneration for predictions without further training.\n"
     ]
    }
   ],
   "source": [
    "# pegasus model loaded\n",
    "pegasus_model = TFPegasusForConditionalGeneration.from_pretrained('google/pegasus-xsum')\n",
    "pegasus_tokenizer = PegasusTokenizer.from_pretrained('google/pegasus-xsum')"
   ]
  },
  {
   "cell_type": "code",
   "execution_count": 10,
   "metadata": {},
   "outputs": [],
   "source": [
    "def short_summary(article_url):\n",
    "    \"\"\"\n",
    "    Creates a short summary of the article and gets the month and year article published\n",
    "    for the search query for related articles\n",
    "    \n",
    "   input:  string, url of the article\n",
    "   output: string, short summary of the article\n",
    "           string, month and year that the article was published in\n",
    "    \"\"\"\n",
    "    tic = time.perf_counter()\n",
    "    try:\n",
    "        article = Article(article_url)\n",
    "        article.download()\n",
    "        article.parse()\n",
    "        txt = article.text\n",
    "        toc = time.perf_counter()\n",
    "        print(f\"Downloaded the article in {toc - tic:0.4f} seconds\")\n",
    "\n",
    "        try:\n",
    "            pub_date = article.publish_date\n",
    "            month_yr = pub_date.strftime(\"%B\") + \" \" + str(pub_date.year)\n",
    "        except:\n",
    "            month_yr = \"\"\n",
    "            print('no published date')\n",
    "        tic = time.perf_counter()\n",
    "\n",
    "        pegasus_input = pegasus_tokenizer([txt], max_length=512, truncation=True, return_tensors='tf')\n",
    "        # max_length is 20 because google search only takes up to 32 words in one search \n",
    "        pegasus_summary_id =  pegasus_model.generate(pegasus_input['input_ids'], \n",
    "                                    no_repeat_ngram_size=5,\n",
    "                                    min_length=5,\n",
    "                                    max_length=29,\n",
    "                                    early_stopping=True)\n",
    "        pegasus_summary_ = [pegasus_tokenizer.decode(g, skip_special_tokens=True, \n",
    "                           clean_up_tokenization_spaces=False) for g in pegasus_summary_id]\n",
    "        toc = time.perf_counter()\n",
    "\n",
    "        print(f\"Created the summary in {toc - tic:0.4f} seconds\")\n",
    "\n",
    "        return pegasus_summary_[0], month_yr\n",
    "    except Exception as inst:\n",
    "        print(type(inst))    # the exception instance\n",
    "        print(inst.args)\n",
    "        print('article not found')\n",
    "        raise inst"
   ]
  },
  {
   "cell_type": "markdown",
   "metadata": {},
   "source": [
    "## Link Alternative Articles - combines output from short summary and alternative bias functions"
   ]
  },
  {
   "cell_type": "code",
   "execution_count": 11,
   "metadata": {},
   "outputs": [],
   "source": [
    "def link_alternative_articles(original_url, title, date, alternative_bias, bias_data):\n",
    "    \"\"\"\n",
    "    Gets the related alternative articles url links through google search\n",
    "    \n",
    "    input: original_url - string, url of the article that we are trying to get alternative articles for\n",
    "           title - string, short summary of article,\n",
    "           date - string, month and year,\n",
    "           alternative_bias - list of string, the alternative sides of bias of the article,\n",
    "           bias_data - dataframe - 2 columns, the source and the bias\n",
    "    output: list of tuples, first element of the tuple is the url of the alternative bias covering the same topic\n",
    "                            second element of the tuple is the source name\n",
    "   \"\"\"\n",
    "    # google news way\n",
    "#     articles = []\n",
    "#     sources = []\n",
    "#     googlenews = GoogleNews()\n",
    "#     for bias in alternative_bias: \n",
    "#         source_list = bias_data[bias_data.bias == bias].source.tolist()\n",
    "#         sample_sources = sample(source_list, 7)\n",
    "#         for source in sample_sources:\n",
    "#             query_list = [title, 'article', date, source]\n",
    "#             source_url = bias_data[bias_data.source == source].website.iloc[0]\n",
    "#             query = ' '.join(query_list)\n",
    "#             googlenews.search(query)\n",
    "#             news_links = googlenews.get_links()\n",
    "#             print(news_links)\n",
    "#             for article_url in news_links:\n",
    "#                 if article_url in articles or fuzz.partial_ratio(original_url, article_url) > 80:\n",
    "#                     continue\n",
    "#                 elif source_url not in article_url:\n",
    "#                     if fuzz.partial_ratio(source_url, article_url) > 80:\n",
    "#                         articles.append(article_url)\n",
    "#                         sources.append(source)\n",
    "#                         googlenews.clear()\n",
    "#                         break\n",
    "#                     else:\n",
    "#                             continue\n",
    "#                 else:\n",
    "#                     articles.append(article_url)\n",
    "#                     sources.append(source)\n",
    "#                     googlenews.clear()\n",
    "#                     break\n",
    "    # google search way        \n",
    "    articles = []\n",
    "    sources = []\n",
    "    for bias in alternative_bias: \n",
    "        source_list = bias_data[bias_data.bias == bias].source.tolist()\n",
    "        sample_sources = sample(source_list, 5)\n",
    "        for source in sample_sources:\n",
    "            print(source)\n",
    "            query_list = [title, 'article', date, source]\n",
    "            source_url = bias_data[bias_data.source == source].website.iloc[0]\n",
    "            query = ' '.join(query_list)\n",
    "            search_generator = search(query, num = 2, pause = 3)\n",
    "            article_url = next(search_generator)\n",
    "            if article_url in articles or fuzz.partial_ratio(original_url, article_url) > 80:\n",
    "                article_url2 = next(search_generator)\n",
    "                if article_url2 in articles or fuzz.partial_ratio(original_url, article_url2) > 80:\n",
    "                    continue\n",
    "                elif fuzz.partial_ratio(source_url, article_url2) > 80:\n",
    "                    articles.append(article_url2)\n",
    "                    sources.append(source)\n",
    "            elif source_url not in article_url:\n",
    "                if fuzz.partial_ratio(source_url, article_url) > 80:\n",
    "                    articles.append(article_url)\n",
    "                    sources.append(source)\n",
    "                else:\n",
    "                    article_url2 = next(search_generator)\n",
    "                    if article_url2 in articles or fuzz.partial_ratio(original_url, article_url2) > 80:\n",
    "                        continue\n",
    "                    elif fuzz.partial_ratio(source_url, article_url2) > 80:\n",
    "                        articles.append(article_url2)\n",
    "                        sources.append(source)\n",
    "                    else:\n",
    "                        continue\n",
    "            else:\n",
    "                articles.append(article_url)\n",
    "                sources.append(source)\n",
    "    zipped_list = list(zip(articles,sources))\n",
    "    return zipped_list"
   ]
  },
  {
   "cell_type": "markdown",
   "metadata": {},
   "source": [
    "## Unpack Link of Alternative Articles"
   ]
  },
  {
   "cell_type": "code",
   "execution_count": 127,
   "metadata": {},
   "outputs": [],
   "source": [
    "def url_to_info(zipped_urls_sources):\n",
    "    \"\"\"\n",
    "    Convert the urls and sources to the text and the titles of the related articles\n",
    "    \n",
    "    input: list, urls of related articles\n",
    "    output:list of tuples, first element of tuple is the article text\n",
    "                           second element of tuple is the article title\n",
    "                           third element of tuple is the source name\n",
    "    \"\"\"\n",
    "    article_texts = []\n",
    "    article_titles = []\n",
    "    article_sources = []\n",
    "    article_urls = []\n",
    "    urls, sources = zip(*zipped_urls_sources)\n",
    "    for index in range(len(urls)):\n",
    "        try:\n",
    "            article = Article(urls[index])\n",
    "            article.download()\n",
    "            article.parse()\n",
    "            txt = article.text\n",
    "            article.nlp()\n",
    "            # if there is no text in the article it isn't included\n",
    "            if txt:\n",
    "                # if there is less than 200 words in the article, it isn't included\n",
    "                if len(txt.split(' ')) < 200:\n",
    "                    continue\n",
    "                else:\n",
    "                    article_urls.append(urls[index])\n",
    "                    article_texts.append(txt)\n",
    "                    article_titles.append(article.title)\n",
    "                    article_sources.append(sources[index])\n",
    "        except:\n",
    "            continue\n",
    "    zipped_articles = list(zip(article_texts, article_titles, article_sources, article_urls))\n",
    "    return zipped_articles"
   ]
  },
  {
   "cell_type": "markdown",
   "metadata": {},
   "source": [
    "## Find and Keep more similar articles"
   ]
  },
  {
   "cell_type": "code",
   "execution_count": 128,
   "metadata": {},
   "outputs": [],
   "source": [
    "def similar_documents(articles):\n",
    "    \"\"\"\"\n",
    "    function to get similar documents in order to ensure we have the articles that have the same topic, event or issue\n",
    "    \n",
    "    input: list of tuples, article texts, titles, sources, urls\n",
    "    output: list of tuples, first element of the tuple are article texts that have high similarity to one another \n",
    "                            second element of the tuple are the titles of the articles\n",
    "    \"\"\"\n",
    "    texts, titles, sources, urls = zip(*articles)\n",
    "    tfidf = TfidfVectorizer().fit_transform(texts)\n",
    "    pairwise_similarity = tfidf * tfidf.T\n",
    "    \n",
    "    # for each document compute the average similarity score to the other documents\n",
    "    # .53 is an arbitrary threshold\n",
    "    # should be higher than .53 average to make sure that the documents talk about the same topic\n",
    "    avg_similarity = np.average(pairwise_similarity.toarray(), axis = 1)\n",
    "    bool_similarity = avg_similarity > 0.53\n",
    "    # get the list of articles that fulfill the requirement of .53 avg similarity\n",
    "\n",
    "    #if there are more than 4 articles that have greater than .53 similarities, only take the top 4 similarities \n",
    "    if sum(bool_similarity) > 4:\n",
    "        top_indexes = avg_similarity.argsort()[-4:][::-1]\n",
    "        updated_texts = [texts[i] for i in top_indexes]\n",
    "        updated_titles = [titles[i] for i in top_indexes]\n",
    "        updated_sources = [sources[i] for i in top_indexes]\n",
    "        updated_urls = [urls[i] for i in top_indexes]\n",
    "    elif sum(bool_similarity) <=1:\n",
    "        #if there is less than 2 articles that has a collective similarity score over .53 \n",
    "        raise IndexError('No similar articles found')\n",
    "    else:\n",
    "        updated_texts = list(np.array(texts)[bool_similarity])\n",
    "        updated_titles = list(np.array(titles)[bool_similarity])\n",
    "        updated_sources = list(np.array(sources)[bool_similarity])\n",
    "        updated_urls = list(np.array(urls)[bool_similarity])\n",
    "    zipped_similar = list(zip(updated_texts, updated_titles, updated_sources, updated_urls))\n",
    "    return zipped_similar"
   ]
  },
  {
   "cell_type": "markdown",
   "metadata": {},
   "source": [
    "## Summarization of similar articles"
   ]
  },
  {
   "cell_type": "code",
   "execution_count": 67,
   "metadata": {},
   "outputs": [
    {
     "name": "stderr",
     "output_type": "stream",
     "text": [
      "All model checkpoint layers were used when initializing TFT5ForConditionalGeneration.\n",
      "\n",
      "All the layers of TFT5ForConditionalGeneration were initialized from the model checkpoint at t5-large.\n",
      "If your task is similar to the task the model of the checkpoint was trained on, you can already use TFT5ForConditionalGeneration for predictions without further training.\n"
     ]
    }
   ],
   "source": [
    "# load t5 model for second level summarization\n",
    "t5_model = TFT5ForConditionalGeneration.from_pretrained('t5-large')\n",
    "t5_tokenizer = T5Tokenizer.from_pretrained('t5-large')"
   ]
  },
  {
   "cell_type": "code",
   "execution_count": 139,
   "metadata": {},
   "outputs": [],
   "source": [
    "def summarization(similar_articles_text):\n",
    "    \"\"\" \n",
    "    Summarize the article texts using pegasus model(abstractive) on each text and then combine the summaries into a string and\n",
    "    put it into the t5 model (extractive)\n",
    "    \n",
    "    input: tuple of similar article text\n",
    "    output: string of the summary of similar articles\n",
    "    \"\"\"\n",
    "    # summarize each article using pegasus\n",
    "    tic = time.perf_counter()\n",
    "    \n",
    "    # summarize the first 400 words from each article \n",
    "    # and then combine all these similar articles \n",
    "    # and then do pegasus on it\n",
    "    texts = [summarize(\" \".join(article.split(\" \")[:400])) for article in similar_articles_text]\n",
    "    combined_txt = \" \".join(texts)\n",
    "    pegasus_input_list = pegasus_tokenizer([combined_txt], truncation=True, return_tensors='tf')\n",
    "    pegasus_summary_ids = pegasus_model.generate(pegasus_input_list['input_ids'], \n",
    "                                    no_repeat_ngram_size=5,\n",
    "                                    min_length=60,\n",
    "                                    max_length=300,\n",
    "                                    early_stopping=True)\n",
    "    pegasus_summary_list = [pegasus_tokenizer.decode(g, skip_special_tokens=True, \n",
    "                           clean_up_tokenization_spaces=False) for g in pegasus_summary_ids]\n",
    "    toc = time.perf_counter()\n",
    "    print(f\"Got the pegasus summary in {toc - tic:0.4f} seconds\")\n",
    "    return pegasus_summary_list\n",
    "#     pegasus_input_list = [pegasus_tokenizer([text], max_length=512, truncation=True, return_tensors='tf')\n",
    "#                           for text in similar_articles_text]\n",
    "#     toc = time.perf_counter()\n",
    "#     print(f\"Got the pegasus input list in {toc - tic:0.4f} seconds\")\n",
    "\n",
    "#     pegasus_summary_ids =  [pegasus_model.generate(i['input_ids'], \n",
    "#                                     no_repeat_ngram_size=5,\n",
    "#                                     min_length=60,\n",
    "#                                     max_length=300,\n",
    "#                                     early_stopping=True) for i in pegasus_input_list]\n",
    "#     tic = time.perf_counter()\n",
    "\n",
    "#     print(f\"Got the summary ids in {tic - toc:0.4f} seconds\")\n",
    "\n",
    "\n",
    "#     pegasus_summary_list = [[pegasus_tokenizer.decode(g, skip_special_tokens=True, \n",
    "#                            clean_up_tokenization_spaces=False) for g in i] for i in pegasus_summary_ids]\n",
    "#     toc = time.perf_counter()\n",
    "\n",
    "#     print(f\"Got the summary ids in {toc - tic:0.4f} seconds\")\n",
    "#     print(pegasus_summary_list)\n",
    "    \n",
    "#     # if returning \n",
    "    \n",
    "# #     return pegasus_summary_list\n",
    "\n",
    "#     # combine the pegasus summaries into a string\n",
    "#     pegasus_summaries = \" \".join([i[0] for i in pegasus_summary_list])\n",
    "    \n",
    "#     # pegasus summary for second round code\n",
    "# #     pegasus_input2 = pegasus_tokenizer([pegasus_summaries], max_length=512, truncation=True, return_tensors='tf')\n",
    "# #     tic = time.perf_counter()\n",
    "# #     print(f\"Got the inputs for final pegasus run in {tic - toc:0.4f} seconds\")\n",
    "\n",
    "# #     pegasus_summary_id2 =  pegasus_model.generate(pegasus_input2['input_ids'], \n",
    "# #                                     no_repeat_ngram_size=5,\n",
    "# #                                     min_length=60,\n",
    "# #                                     max_length=300,\n",
    "# #                                     early_stopping=True)\n",
    "# #     toc = time.perf_counter()\n",
    "\n",
    "# #     print(f\"Got the summary ids for pegasus2 in {toc - tic:0.4f} seconds\")\n",
    "# #     pegasus_summary_2 = [pegasus_tokenizer.decode(g, skip_special_tokens=True, \n",
    "# #                            clean_up_tokenization_spaces=False) for g in pegasus_summary_id2]\n",
    "\n",
    "# #     tic = time.perf_counter()\n",
    "# #     print(f\"Got the final pegasus summary in {tic - toc:0.4f} seconds\")\n",
    "# #     return pegasus_summary_2[0]\n",
    "\n",
    "#     # get final summary through t5 model\n",
    "#     total_input_list = t5_tokenizer([\"summarize: \" + pegasus_summaries], truncation = True, return_tensors = 'tf')\n",
    "#     tic = time.perf_counter()\n",
    "#     print(f\"Got the input list for t5 in {tic - toc:0.4f} seconds\")\n",
    "#     t5_id =  t5_model.generate(total_input_list['input_ids'],\n",
    "#                                     num_beams=6,\n",
    "#                                     no_repeat_ngram_size=5,\n",
    "#                                     min_length=50,\n",
    "#                                     max_length=300)\n",
    "#     toc = time.perf_counter()\n",
    "#     print(f\"Got the t5 id in {toc - tic:0.4f} seconds\")\n",
    "\n",
    "#     t5_summary = [t5_tokenizer.decode(g, skip_special_tokens=True, clean_up_tokenization_spaces=False) for g in t5_id]\n",
    "#     tic = time.perf_counter()\n",
    "#     print(f\"Got the summary for t5 in {tic - toc:0.4f} seconds\")\n",
    "\n",
    "#     return t5_summary[0]"
   ]
  },
  {
   "cell_type": "markdown",
   "metadata": {},
   "source": [
    "## Example Run"
   ]
  },
  {
   "cell_type": "code",
   "execution_count": 110,
   "metadata": {},
   "outputs": [],
   "source": [
    "article_url = 'https://www.nytimes.com/2021/03/16/us/politics/election-interference-russia-2020-assessment.html'"
   ]
  },
  {
   "cell_type": "code",
   "execution_count": 111,
   "metadata": {},
   "outputs": [
    {
     "data": {
      "text/plain": [
       "'https://www.nytimes.com/2021/03/16/us/politics/election-interference-russia-2020-assessment.html'"
      ]
     },
     "execution_count": 111,
     "metadata": {},
     "output_type": "execute_result"
    }
   ],
   "source": [
    "article_url"
   ]
  },
  {
   "cell_type": "code",
   "execution_count": 112,
   "metadata": {},
   "outputs": [],
   "source": [
    "# from model output but right now manual output\n",
    "alt_biases = get_alternative_bias('right')"
   ]
  },
  {
   "cell_type": "code",
   "execution_count": 113,
   "metadata": {},
   "outputs": [
    {
     "name": "stdout",
     "output_type": "stream",
     "text": [
      "Downloaded the article in 0.4277 seconds\n",
      "Created the summary in 64.8798 seconds\n"
     ]
    }
   ],
   "source": [
    "# get summary and date for input into link alternative article functions\n",
    "summary, date = short_summary(article_url)"
   ]
  },
  {
   "cell_type": "code",
   "execution_count": 114,
   "metadata": {},
   "outputs": [
    {
     "data": {
      "text/plain": [
       "'The US intelligence community has declassified a report on Russia’s efforts to meddle in the 2016 election, laying out how former Vice'"
      ]
     },
     "execution_count": 114,
     "metadata": {},
     "output_type": "execute_result"
    }
   ],
   "source": [
    "summary"
   ]
  },
  {
   "cell_type": "code",
   "execution_count": 119,
   "metadata": {
    "scrolled": false
   },
   "outputs": [
    {
     "name": "stdout",
     "output_type": "stream",
     "text": [
      "NBC News (Online)\n",
      "ABC News (Online)\n",
      "The Intercept\n",
      "Bloomberg\n",
      "The New Yorker\n",
      "Wall Street Journal (News)\n",
      "Christian Science Monitor\n",
      "Reuters\n",
      "NPR (Online News)\n",
      "BBC News\n"
     ]
    }
   ],
   "source": [
    "alt_articles_links = link_alternative_articles(article_url, summary, date, alt_biases, data)"
   ]
  },
  {
   "cell_type": "code",
   "execution_count": 129,
   "metadata": {},
   "outputs": [
    {
     "data": {
      "text/plain": [
       "[('https://abcnews.go.com/Politics/senate-report-details-russias-efforts-meddle-2016-ties/story?id=72444405',\n",
       "  'ABC News (Online)'),\n",
       " ('https://www.bloomberg.com/news/articles/2021-03-16/u-s-spy-agency-rejects-trump-claim-of-china-election-meddling',\n",
       "  'Bloomberg'),\n",
       " ('https://www.newyorker.com/magazine/2017/03/06/trump-putin-and-the-new-cold-war',\n",
       "  'The New Yorker'),\n",
       " ('https://www.wsj.com/articles/senate-report-affirms-u-s-intelligence-findings-on-2016-russian-interference-11587483408',\n",
       "  'Wall Street Journal (News)'),\n",
       " ('https://www.csmonitor.com/USA/Politics/2019/0514/Amid-growing-concerns-about-2020-a-primer-on-Russian-election-interference',\n",
       "  'Christian Science Monitor'),\n",
       " ('https://www.reuters.com/article/us-usa-trump-russia-q-a/what-we-know-about-u-s-probes-of-russian-meddling-in-2016-election-idUSKBN19604O',\n",
       "  'Reuters'),\n",
       " ('https://www.npr.org/2020/08/18/903616280/sen-mark-warner-discusses-latest-report-on-russias-influence-on-2016-election',\n",
       "  'NPR (Online News)')]"
      ]
     },
     "execution_count": 129,
     "metadata": {},
     "output_type": "execute_result"
    }
   ],
   "source": [
    "alt_articles_links"
   ]
  },
  {
   "cell_type": "code",
   "execution_count": 130,
   "metadata": {
    "scrolled": true
   },
   "outputs": [],
   "source": [
    "# unpack urls\n",
    "alt_articles = url_to_info(alt_articles_links)"
   ]
  },
  {
   "cell_type": "code",
   "execution_count": 131,
   "metadata": {},
   "outputs": [
    {
     "data": {
      "text/plain": [
       "[('A new bipartisan report released by a Senate panel Tuesday outlines perhaps the most detailed accounting to date of Russia’s efforts to interfere in the 2016 election while accusing the White House and others close to President Donald Trump of refusing to cooperate with an investigation into whether the president’s campaign simply benefited or sought to aid Russia’s efforts.\\n\\nThe nearly-1,000 page report from the Senate Intelligence Committee, its fifth and final examination of a years-long effort to probe Russian meddling in 2016, describes several episodes in which Trump and members of his campaign were keen to accept Russia’s help -- and in some instances goes further than even former special counsel Robert Mueller in detailing ties between the campaign and Russian individuals.\\n\\nHowever, like Mueller’s report released last year, the Senate committee does not allege any criminal conspiracy between Trump or members of his campaign and Russia.\\n\\nAnd in agreement with the intelligence community’s 2017 assessment on Russia’s interference, the report states definitively that Russian President Vladimir Putin \"ordered the Russian effort to hack computer networks and accounts affiliated with the Democratic Party and leak information damaging to Hillary Clinton and her campaign for president.\"\\n\\nWhile the report was bipartisan in nature, upon its release both Republicans and Democrats quickly split in their determination of what the committee’s key findings were.\\n\\nAn index authored by Democrats on the committee argued the report \"unambiguously shows that members of the Trump Campaign cooperated with Russian efforts to get Trump elected.\" The committee’s Republicans, on the other hand, said in a separate statement that \"after more than three years of investigation by this Committee, we can now say with no doubt, there was no collusion\" between the Trump campaign and Russia.\\n\\nA significant new revelation from the report found that \"some evidence suggests\" a Russian intelligence officer whom former Trump campaign chairman Paul Manafort provided campaign polling data to in 2016 may have been directly connected to Russia’s hacking and subsequent release of emails from Hillary Clinton’s campaign.\\n\\nPreviously, Mueller had identified the Russian individual, Konstantin Kilimnik, as someone who the FBI assessed had \"ties to Russian intelligence,\" not an agent. The Senate’s report also goes further than Mueller in suggesting the \"possibility of Manafort’s potential connection\" to Russia’s hack and leak operations.\\n\\nIndeed, the report describes Manafort bluntly as having \"represented a grave counterintelligence threat\" to Trump’s campaign.\\n\\n\"The Committee found that Manafort\\'s presence on the Campaign and proximity to Trump created opportunities for Russian intelligence services to exert influence over, and acquire confidential information on, the Trump Campaign,\" the report says.\\n\\nThe report also delved into the now-infamous Trump Tower meeting in June 2016 between Donald Trump Jr., the president’s son-in-law Jared Kushner, Manafort and individuals with ties to the Russian government who at the time were promising \"dirt\" on Clinton.\\n\\n\"The Committee found that it was the intent of the Campaign participants in the meeting, particularly Donald Trump Jr., to receive derogatory information that would be of benefit to the Campaign from a source known, at least by Trump Jr., to have connections to the Russian government,\" the report says, while noting the information on Clinton was never eventually delivered.\\n\\nThe Trump campaign’s \"embrace\" of WikiLeaks\\' disclosures of Democratic emails hacked by Russian operatives also takes up a significant portion of the report, in particular Trump ally Roger Stone’s coordination with Wikileaks at a time when he was still in contact with Trump and members of his campaign.\\n\\nThe committee said it found reason to doubt Trump’s written answers to Mueller in which he stated he had \"no recollection\" of discussing Wikileaks with Stone.\\n\\n\"Despite Trump’s recollection, the Committee assesses that Trump did, in fact, speak with Stone about WikiLeaks and with members of his Campaign about Stone’s access to WikiLeaks on multiple occasions,\" the report says.\\n\\nTrump publicly praised Stone for months as he refused to cooperate with Mueller’s investigation and last month commuted Stone’s 40-month sentence days before he was set to report to prison for his conviction on seven counts of lying to investigators, witness tampering and obstruction of Congress.\\n\\nThe committee’s report notes repeated instances in which either the White House or associates of Trump declined to cooperate or, in certain cases, may have sought to obstruct the committee’s investigation.\\n\\n\"The committee did not anticipate… the multitude of novel and unprecedented executive privilege claims\" from the White House \"on behalf of members of President-elect Trump’s Transition Team and the transition itself,\" the report says, adding the committee \"was surprised by these assertions because they were made inconsistently and because they have no basis in law.\"\\n\\nThe committee also notes that after Trump’s former personal lawyer Michael Cohen produced documents for their investigation they \"became concerned that multiple witnesses and/or their counsel could have been involved in or aware\" of Cohen’s efforts to obstruct their investigation.\\n\\nCohen pleaded guilty in 2018 to lying to Congress about Trump’s later-aborted efforts to build a Trump Tower in Moscow.\\n\\n\"Indeed, at least two witnesses (Donald Trump Jr. and Felix Sater) could have known that Cohen\\'s statement falsely represented material facts about negotiations over a deal for a Trump Tower Moscow,\" the report says. \"Further, Cohen told the Committee that following his initial testimony, he received a phone call from [Trump’s personal attorney Jay] Sekulow, who told him that Trump \"heard that you did great, and don\\'t worry, everything\\'s going to be fine. He loves ya.\"\"\\n\\nThe report’s release comes amid an increasingly aggressive push by Trump and many of his allies to undermine the legitimacy of the Russia investigation.\\n\\nTrump has repeatedly amplified baseless allegations that his campaign was \"spied\" upon in 2016 by the Obama Administration, pointing to the issues with how the FBI handled surveillance of Carter Page, a former aide to Trump’s campaign, and their use of a dossier by former British spy Christopher Steele to receive authorization for the surveillance from a federal court.\\n\\nThe committee’s report, however, spends considerable time laying out Page’s extensive ties to Russia and the reasoning for possible suspicion of his motives.\\n\\n\"Despite the meticulous records Page kept on his personal hard drive detailing his daily routines, he was unable to recall any details of his trips to Moscow, or the names of senior Russian officials with whom he met, despite using his engagements with them to build his credentials within the Campaign,\" the report notes.\\n\\nThe handling of Page’s surveillance is a key episode now being examined by U.S. attorney John Durham, who was tasked by Attorney General William Barr with investigating the origins of the Russia investigation.\\n\\nBoth said in a statement last year that they disagreed with the determination by the Justice Department’s inspector general that the FBI’s counterintelligence investigation of the Trump campaign was opened with proper cause, though it’s unclear when they might present findings that support their contention.\\n\\n\"The findings in this report clearly provide a fact pattern that would have demanded an investigation and to not do so would have been negligent,\" said John Cohen, a former acting undersecretary at the department and ABC News contributor. \"With the release of this report it’s unclear how the Attorney General and Durham can credibly claim that this investigation wasn’t warranted or properly predicated.\"\\n\\nA source familiar with Durham\\'s investigation confirmed to ABC News that former CIA Director John Brennan is expected to sit for an interview with Durham\\'s investigators this Friday. The news was first reported by the Wall Street Journal.\\n\\nOn Wednesday, a former FBI lawyer is expected to plead guilty in federal court to altering a document that was used to renew an application for continued surveillance of Page after Trump took office, the first public case out of Durham’s investigation. However, nothing in the public court documents suggest a broader conspiracy against Trump, as Barr has repeatedly alleged.\\n\\nABC News\\' James Meek contributed to this report.',\n",
       "  'Senate report details Russia’s efforts to meddle in 2016, ties to Trump associates',\n",
       "  'ABC News (Online)',\n",
       "  'https://abcnews.go.com/Politics/senate-report-details-russias-efforts-meddle-2016-ties/story?id=72444405'),\n",
       " ('The United States, meanwhile, had its own notable cyberwar success. In 2008, in tandem with Israeli intelligence, the U.S. launched the first digital attack on another country’s critical infrastructure, deploying a “worm,” known as Stuxnet, that was designed to cause centrifuges in Iran to spin out of control and thereby delay its nuclear development.\\n\\nYet diplomatic concerns inhibited some of the United States’ active measures. The Obama Administration had a “reset” policy with Russia, forging agreements and coöperating on select issues, despite an over-all increase in tension. “Cyber was an area where we were trying to work with Russia,” Evelyn Farkas, the Pentagon official, said. “That’s the irony. We were meeting with their big spies, trying to develop some kind of arms control for cyber.”\\n\\nWhen Robert Knake arrived as the director of cybersecurity policy at the National Security Council, in 2011, the White House had a formal initiative to combat Chinese hacking, known as the Counter-China strategy. Knake recalled, “The question was: ‘O.K., now, what’s the counter-Russia plan? And the counter-Iran plan?’ ” The difficulty was that, in the aftermath of Stuxnet, the U.S. needed Iran’s coöperation on diplomatic priorities. From 2011 to 2013, Iranian-backed hackers waged a sustained DDoS attack on dozens of American banks and financial-services companies, but the U.S. didn’t respond in kind, partly because the Administration was negotiating with Iran to curb its nuclear program. “If we had unleashed the fury in response to that DDoS attack, I don’t know if we would have gotten an Iran deal,” Knake said. In other cases, the Administration declined to respond forcefully so that it could retain the option of deploying similar means on other countries. “As long as we think we’re getting more value from this set of rules than we’re losing, then this is the set of rules we want to promote,” Knake said.\\n\\nA new doctrine was taking shape, under which Russia sought to study the nefarious tools of the West, as it understood them, so as to counteract them at home and put them into practice abroad. One indication of what that might look like came in February, 2013, when, in the pages of the Military-Industrial Courier—a journal with a tiny yet influential readership of Russian military strategists—Valery Gerasimov, the Russian chief of general staff, published an article with the anodyne title “The Value of Science in Prediction.” The article identified and urged the adoption of a Western strategy that involved military, technological, media, political, and intelligence tactics that would destabilize an enemy at minimal cost. The strategy, which came to be known as “hybrid war,” was an amalgam that states have used for generations, but the text took on the status of a legend, and is now known in international military circles as the Gerasimov doctrine.\\n\\nGerasimov is sixty-one years old, and is always photographed in a stiff, forest-green military uniform and with a perpetually sagging frown. He trained as a tank commander, and then climbed the military hierarchy; he led the Fifty-eighth Army during the Second Chechen War. In the article for Military-Industrial Courier, Gerasimov suggested that, in the future, wars will be fought with a four-to-one ratio of nonmilitary to military measures. The former, he wrote, should include efforts to shape the political and social landscape of the adversary through subversion, espionage, propaganda, and cyberattacks. His essay, written in the shadow of the Arab Spring, cited the anarchy and violence that erupted in Libya and Syria as proof that, when faced with the combination of pressure and interference, a “perfectly thriving state can, in a matter of months, and even days, be transformed into an arena of fierce armed conflict, become a victim of foreign intervention, and sink into a web of chaos, humanitarian catastrophe, and civil war.”\\n\\nSuch events were “typical of warfare in the twenty-first century,” he wrote. “The role of nonmilitary means of achieving political and strategic goals has grown, and, in many cases, they have exceeded the power of force of weapons in their effectiveness.”\\n\\nPavel Zolotarev, the retired Russian general, explained that, when Gerasimov’s essay was published, “we had come to the conclusion, having analyzed the actions of Western countries in the post-Soviet space—first of all the United States—that manipulation in the information sphere is a very effective tool.” Previously, one had to use “grandfather-style methods: scatter leaflets, throw around some printed materials, manipulate the radio or television,” Zolotarev said. “But, all of a sudden, new means have appeared.”\\n\\nGerasimov’s prescriptions began to look prophetic a year later, when Russia annexed Crimea in a quick operation that caught U.S. officials by surprise and contravened international law. Russian-made propaganda whipped up pro-Moscow sentiment in a population that was already wary of Ukrainian political leaders in Kiev and had deep, historical ties with Russia. Unidentified soldiers (the so-called “little green men”) surrounded Ukrainian bases in Crimea, and within days Russia had pulled off a hastily organized, stage-managed referendum.\\n\\nEven with the rise of new technologies, the underlying truth about such operations hasn’t changed. They are less a way to conjure up something out of nothing than to stir a pot that is already bubbling. In the U.S., a strategy like the alleged hacking of the Democrats was merely an effort to deepen an existing state of disarray and distrust. “For something to happen, many factors have to come together at once,” said Alexander Sharavin, the head of a military research institute and a member of the Academy of Military Sciences, in Moscow, where Gerasimov often speaks. “If you go to Great Britain, for example, and tell them the Queen is bad, nothing will happen, there will be no revolution, because the necessary conditions are absent—there is no existing background for this operation.” But, Sharavin said, “in America those preconditions existed.”\\n\\nAs tensions with Russia rose over the conflicts in Ukraine and Syria, in early 2014, the U.S. was stung by a tactic common in Moscow politics: the weaponized leak. While the U.S. and the European Union discussed the details of a potential transitional government in Ukraine, an aide to the Russian deputy prime minister tweeted a reference to part of a wiretapped conversation, posted soon afterward to YouTube, between Victoria Nuland, a U.S. Assistant Secretary of State, and her colleague Geoffrey Pyatt, the U.S. Ambassador in Ukraine. Nuland is heard saying “Fuck the E.U.”—a line that the Russians knew would cause difficulties between the Americans and their E.U. counterparts. The State Department called the leak “a new low in Russian tradecraft.” Asked what form of penalty was extracted from Russia, Michael McFaul, the Ambassador to Moscow during the Obama Administration, said, “To the best of my knowledge, there was none. I think that was a mistake.”\\n\\nObama’s adviser Benjamin Rhodes said that Russia’s aggressiveness had accelerated since the first demonstrations on Maidan Square, in Kiev. “When the history books are written, it will be said that a couple of weeks on the Maidan is where this went from being a Cold War-style competition to a much bigger deal,” he said. “Putin’s unwillingness to abide by any norms began at that point. It went from provocative to disrespectful of any international boundary.”\\n\\nIn the fall of 2014, a hacking group known as the Dukes entered an unclassified computer system at the U.S. State Department and gained enough control so that, as one official put it, they “owned” the system. In security circles, the Dukes—also referred to as Cozy Bear—were believed to be directed by the Russian government. Very little is known about the size and composition of Russia’s team of state cyberwarriors. In 2013, the Russian Defense Ministry announced that it was forming “scientific” and “information operations” battalions. A defense official later explained their purpose as “disrupting the information networks of the probable enemy.” Oleg Demidov, an expert on information security and cybercrime, and a consultant at the PIR-Center, a research institute in Moscow, said, “At the time, this idea was met with laughter. But this was something real, these units were indeed formed, and staffed by graduates of the country’s leading technical universities.” The next year, the Russian military expanded its public recruitment of young programmers; social-media ads for the “Research Squadron of the Russian Federation” depicted a soldier putting down a rifle and turning to a keyboard, accompanied by a heavy-metal soundtrack.\\n\\nA retired K.G.B. colonel recently told the magazine Ogonyok that Russia had about a thousand people working in military and security operations online. According to a detailed report that appeared last November in the well-regarded online publication Meduza, several hundred technical specialists have left commercial firms to work for state-run cyber teams. A Defense Ministry spokesperson refused to confirm any details, telling a Meduza correspondent that the topic is secret, “so no one can see how we might apply these methods,” and warning against publication: “Don’t risk doing anything further—don’t put yourself in the crosshairs.”\\n\\nAfter penetrating the State Department, the Dukes moved on to the unclassified computer network that serves the executive office of the President. (The network manages, for instance, details of his movements.) By February, 2015, the increasing intensity of Russian intrusions into sensitive political targets had raised alarms in Washington, and Clapper, the director of national intelligence, told a Senate hearing that the “Russian cyberthreat is more severe than we have previously assessed.”\\n\\nEuropean officials voice similar concerns. The Directorate-General for External Security, the French spy agency, is reportedly worried that Russian spies, hackers, and others are working to help Marine Le Pen, the Presidential candidate of the far-right National Front Party. Russian state media have suggested that one of her opponents, Emmanuel Macron, is a tool of American banks and has a secret gay lover. Le Pen, whose party has received loans from a Russian bank, has toed the Kremlin line on Crimea, saying that the territory was always part of Russia.\\n\\nBruno Kahl, the head of Germany’s foreign-intelligence agency, has expressed concern that Russian hackers are also trying to disrupt the German political scene, where Chancellor Angela Merkel is standing for reëlection as a stalwart supporter of NATO and the E.U. Citing Russian interference in the American elections, Kahl told the newspaper Süddeutsche Zeitung, “The perpetrators are interested in delegitimizing the democratic process, as such, regardless of whom that ends up helping.” The director of Germany’s domestic-intelligence agency has since warned of “growing evidence for attempts to influence the federal election.” He told the Times that there has already been an increase in “aggressive cyberespionage” aimed at German politicians.\\n\\nWhen the Dukes turned their attention to the Democratic National Committee, in 2015, the evident goal was to exploit divisions among Party members. In September, an F.B.I. agent called the D.N.C. and said that its computer network appeared to have been hacked. The agent was transferred to the help desk, where a tech-support contractor jotted down the information, checked Google for information on “the Dukes,” and ran a basic check for evidence of hacking. The F.B.I. agent left follow-up messages in October but never visited the office, and the D.N.C. leadership failed to mount a full-scale defense.\\n\\n“The microwave is smart, but the refrigerator is woke.” Facebook\\n\\nTwitter\\n\\nEmail\\n\\nShopping\\n\\nBy March, 2016, the threat was unmistakable. Cybersecurity experts detected a second group of Russian hackers, known as Fancy Bear, who used “spear-phishing” messages to break into accounts belonging to John Podesta and other Democratic officials. Like Cozy Bear, Fancy Bear had left a trail around the globe, with its technical signature visible in cyberattacks against the German parliament, Ukrainian artillery systems, and the World Anti-Doping Agency. “I’ve never seen a group that doesn’t change its style of work after it has been detected,” Ilya Sachkov, who runs a leading cybersecurity firm in Moscow, said. “What logic led them to not adjust their methods?” Charles Carmakal, a specialist at FireEye, a cybersecurity organization that had previously studied the hacking groups implicated in the election operation, said that sophisticated hackers often leave forensic trails. “Even the best teams make mistakes, and, a lot of times, the guys who are great at hacking are not forensics guys who also know how to do investigations and understand all the artifacts that they’re leaving on a machine.”\\n\\nUltimately, the attack didn’t require an enormous amount of expertise. Gaining access to an e-mail account through spear-phishing is more akin to breaking into a car with a clothes hanger than to building a complex cyberweapon like Stuxnet. Oleg Demidov, the information-security expert, said that, from a technical perspective, the hacking was “mediocre—typical, totally standard, nothing outstanding.” The achievement, from Demidov’s perspective, was the “knowledge of what to do with this information once it had been obtained.”\\n\\nOn July 22nd, three days before the Democratic National Convention, WikiLeaks released nearly twenty thousand e-mails, the most damaging of which suggested that the D.N.C., though formally impartial, was trying to undermine Bernie Sanders’s campaign. In one e-mail, the D.N.C. chair, Debbie Wasserman Schultz, said of Sanders, “He isn’t going to be President.” Her resignation did little to tamp down public anger that was fuelled by the themes of secrecy, populism, and privilege—already a part of Trump’s arsenal against Clinton. Months later, Wasserman Schultz reproached the F.B.I. for not reacting more aggressively to the hacking. “How do they spend months only communicating by phone with an I.T. contractor?” she said in an interview. “How was that their protocol? Something has to change, because this isn’t the last we’ve seen of this.”',\n",
       "  'Trump, Putin, and the New Cold War',\n",
       "  'The New Yorker',\n",
       "  'https://www.newyorker.com/magazine/2017/03/06/trump-putin-and-the-new-cold-war'),\n",
       " (\"Public faith in the integrity of elections is critical to any democracy. With new details from the Mueller report about Russia’s interference in the U.S. in 2016, here’s an overview of what happened – and whether it might happen again.\\n\\nThe Trump administration in early 2018 established a designated information-sharing center for election infrastructure, and Congress approved $380 million to be disbursed to states for election security. But most cyber experts agree that U.S. election infrastructure remains vulnerable. Here’s a brief overview of what we know about what happened the last time around.\\n\\nBut Director of National Security Dan Coats, in a briefing to the Senate intelligence committee in January, warned that America’s adversaries “probably already are looking to the 2020 US elections,” and that they “almost certainly will use online influence operations to try to weaken democratic institutions, undermine US alliances and partnerships, and shape policy outcomes in the United States and elsewhere.”\\n\\nThe recent publication of the Mueller report provided more details about the extent of Russia’s interference in the 2016 presidential election – and is creating a new sense of urgency around the question of what the U.S. is doing to prevent another such attack. Last week, President Donald Trump said that he did not broach the topic on a lengthy call with Russian President Vladimir Putin, telling reporters “we didn’t discuss it.”\\n\\nThe recent publication of the Mueller report provided more details about the extent of Russia’s interference in the 2016 presidential election, and Florida Gov. Ron DeSantis revealed today after meeting with the FBI that the Russians hacked into two counties' supervisor of elections networks. Such revelations are creating a new sense of urgency around the question of what the United States is doing to prevent another such attack. President Donald Trump said he did not broach the topic on a lengthy call last week with Russian President Vladimir Putin, telling reporters “we didn’t discuss it.”\\n\\nBut U.S. intelligence officials have repeatedly warned that they expect Russia to attempt to meddle in the 2020 election. And in a meeting with Russian Foreign Minister Sergey Lavrov today in Sochi, Russia, U.S. Secretary of State Mike Pompeo said he made clear that “interference in American elections is unacceptable. If the Russians were to engage in that in 2020, it would put our relationship in an even worse place than it has been.”\\n\\nHere’s a brief overview of what we know about what happened the last time around.\\n\\nWhy We Wrote This Public faith in the integrity of elections is critical to any democracy. With new details from the Mueller report about Russia’s interference in the U.S. in 2016, here’s an overview of what happened – and whether it might happen again.\\n\\nHow did Russia influence Americans through social media?\\n\\nThe Internet Research Agency (IRA), a Kremlin-linked organization in St. Petersburg, Russia, developed Twitter, Instagram, and Facebook accounts to spread disinformation. This activity began as early as 2014, and by early to mid-2016 the campaign was actively supporting Donald Trump and disparaging Hillary Clinton. By the time the elections took place, the IRA was part of a Russian project with a monthly budget of more than 73 million rubles ($1.25 million) and had the potential to influence millions of Americans.\\n\\nBy the time Facebook and Twitter representatives testified before Congress the following year, the IRA had reached 126 million people through 470 Facebook accounts and 1.4 million through 3,814 Twitter accounts. The IRA also spent about $100,000 putting ads in the news feeds of Facebook users, featuring assertions such as “I say no to Hillary Clinton / I say no to manipulation” and “Donald wants to defeat terrorism ... Hillary wants to sponsor it.”\\n\\nWhat was its goal?\\n\\nThe IRA’s operations aimed to “sow discord in the U.S. political system,” in the words of the Mueller report. Some of the most popular accounts included “United Muslims of America” (300,000-plus participants) and “Secured Borders” (130,000-plus participants). IRA-controlled posts touched on flashpoints such as immigration, race, and religion, all designed to exacerbate political polarization. They also sought to sow doubts about American democracy, such as by promoting allegations of voter fraud by the Democratic Party.\\n\\nThis type of political interference has been used by Moscow since Soviet times. John Sipher, a retired CIA agent who served in Moscow and ran the agency’s Russia operations, describes it as “the art of having your enemy think what you want him to think.” But the digital age provides a much bigger platform for such political warfare, which can be more subtle, believable, and far-reaching than in the past.\\n\\nMstyslav Chernov/AP/File A view of a Buisness center, believed to be the location of the new 'troll factory' in St.Petersburg, Russia, Feb. 18, 2018.\\n\\nWhat did the Russians hack?\\n\\nIn early 2016, as Russia was stepping up its support for Mr. Trump, it opened a second front: hacking political organizations and publishing sensitive documents.\\n\\nThe GRU, a Russian military intelligence unit, hacked the Clinton campaign’s email accounts and gained access to two national organizations of the Democratic Party, stealing hundreds of thousands of documents. The GRU then published these materials through WikiLeaks and fake online personas, “DCLeaks” and “Guccifer 2.0.”\\n\\nOn two occasions, the timing of these releases appeared favorable to Mr. Trump. In late July, amid a controversy over Mrs. Clinton’s use of a private email server while she was serving as secretary of state, Mr. Trump said, “Russia, if you’re listening, I hope you’re able to find the 30,000 emails that are missing.” About five hours later, the GRU “targeted for the first time Clinton’s personal office,” according to the Mueller report.\\n\\nThen in October, just an hour after a damaging video surfaced in which Mr. Trump had bragged about groping and kissing women without their consent, WikiLeaks released a second trove of emails stolen months earlier from Clinton campaign manager John Podesta.\\n\\nRussia also targeted at least 18 states’ electoral systems, with others reporting malicious activity. The GRU gained access to an Illinois database with millions of registered voters, and also breached at least two Florida county government’s computer networks. Though there is no evidence that Russia’s hacking changed the vote tally or manipulated voter registration data, such malicious activity has raised concerns that in the future, foreign actors could tamper with voter registration records to exclude certain voters or groups of voters on Election Day.\\n\\nHow has Washington responded?\\n\\nIn February 2018, a grand jury in Washington indicted 13 Russian nationals and three Russian entities “for conspiracy to defraud the United States.” Among them was Putin ally Yevgeniy Viktorovich Prigozhin, whose companies had funded the IRA troll factory.\\n\\nSeveral months later, the grand jury issued a second indictment charging a dozen members of the GRU with 11 criminal counts, including “conspiracy to commit an offense against the United States by attempting to hack into the computers of state boards of elections, secretaries of state, and US companies that supplied software and other technology related to the administration of elections.”\\n\\nTo help states defend against such threats, the Trump administration in early 2018 established a designated information-sharing center for election infrastructure. Around the same time, Congress approved $380 million to be disbursed to states for election security.\\n\\nGet the Monitor Stories you care about delivered to your inbox. Your email address By signing up, you agree to our Privacy Policy\\n\\nIs the U.S. ready for 2020 elections?\\n\\nDirector of National Security Dan Coats, in a briefing to the Senate intelligence committee in January, warned that America’s adversaries “probably already are looking to the 2020 US elections as an opportunity to advance their interests. More broadly,” he added, “US adversaries and strategic competitors almost certainly will use online influence operations to try to weaken democratic institutions, undermine US alliances and partnerships, and shape policy outcomes in the United States and elsewhere.”\\n\\nWhile Mr. Coats has indicated that the intelligence community is doing everything it can to prevent the success of such efforts, and many states have substantially stepped up their defenses, most cyber experts agree that U.S. election infrastructure remains vulnerable.\",\n",
       "  'Amid growing concerns about 2020, a primer on Russian election interference',\n",
       "  'Christian Science Monitor',\n",
       "  'https://www.csmonitor.com/USA/Politics/2019/0514/Amid-growing-concerns-about-2020-a-primer-on-Russian-election-interference'),\n",
       " (\"(Reuters) - U.S. intelligence agencies have alleged that Russia interfered in the 2016 presidential election to benefit President Donald Trump.\\n\\nU.S President Donald Trump speaks to the media as he meets with Turkey's President Recep Tayyip Erdogan in the Oval Office of the White House in Washington, U.S. May 16, 2017. REUTERS/Kevin Lamarque\\n\\nLaw enforcement agencies and congressional committees are investigating Russian meddling and possible collusion with members of Trump’s campaign. Here is what is publicly known and not known:\\n\\nHow did the investigations begin?\\n\\nFormer President Barack Obama ordered U.S. intelligence agencies to assess whether Russia tried to intervene in the election after a cyber attack on the Democratic National Committee in July 2016 and the publication of thousands of hacked personal emails from Hillary Clinton’s campaign manager in the month before the Nov. 8 election. Obama told intelligence officials to deliver a report on possible foreign interference before he left the White House in January 2017.\\n\\nWhat did the intelligence agencies find?\\n\\nThe Central Intelligence Agency, the Federal Bureau of Investigation and the National Security Agency concluded in a report declassified in January that Russian President Vladimir Putin ordered a campaign not just to undermine confidence in the U.S. electoral system but to affect the outcome.\\n\\nThe agencies said Putin and the Russian government had a clear preference for Trump to win the White House. Putin’s associates hacked information, paid social media “trolls” and backed efforts by Russian government agencies and state-funded media to sway public opinion, the agencies said.\\n\\nThe report stopped short of assessing whether Russia succeeded in swaying the election result.\\n\\nPutin and other Russian officials have repeatedly denied interfering in the U.S. election.\\n\\nHow many U.S. investigations are there into Russian election meddling?\\n\\nComey told the House Intelligence Committee on March 20 that the FBI was investigating Moscow’s role in the election, including possible collusion with Trump’s campaign.\\n\\nThe Justice Department announced on May 17 that it had appointed Robert Mueller, a former FBI director, as special counsel to lead an independent Russia probe. Mueller would, if the evidence merits, work in tandem with the FBI to handle any related criminal prosecutions.\\n\\nIn addition, there are multiple committees in the Senate and House of Representatives investigating various aspects of Russian election meddling.\\n\\nWhat has Trump said about Russia’s role in the election?\\n\\nHe has not taken a clear public position.\\n\\nAt a July 2016 news conference, Trump addressed an FBI probe into Clinton’s use of a private email system when she was secretary of state and emails that had possibly been deleted by saying: “I will tell you this, Russia: if you’re listening, I hope you’re able to find the 30,000 emails that are missing.”\\n\\nHe subsequently dismissed reports, including from U.S. intelligence officials, that Russia had attempted to intervene in the election on his behalf.\\n\\nThe first time Trump said he accepted the findings of the intelligence agencies was at a Jan. 11 news conference ahead of his inauguration. “As far as hacking, I think it was Russia,” Trump said, although he added: “It could have been others also.”\\n\\nTrump said in May that China may have hacked the emails of Democratic officials to meddle with the election, offering no evidence and countering the view of intelligence officials.\\n\\nTrump has made clear on multiple occasions he believes the Russia investigations have run their course and should be closed. “The Russia-Trump collusion story is a total hoax, when will this taxpayer funded charade end?” he wrote on Twitter on May 8.\\n\\nOn May 30, Trump tweeted: “Russian officials must be laughing at the U.S. & how a lame excuse for why the Dems lost the election has taken over the Fake News.”\\n\\nDid the FBI probe continue after Comey’s dismissal?\\n\\nThere is no evidence that the FBI ended or paused its investigation after Comey’s departure.\\n\\nAndrew McCabe, who is leading the agency as acting director, promised the Senate Intelligence Committee that Comey’s firing would not affect the investigation and that he will notify the committee of any attempt to delay or derail it.\\n\\nTrump on June 6 chose former U.S. Justice Department official Christopher Wray, who represented New Jersey Governor Chris Christie in the so-called Bridgegate scandal, to be the next FBI director. Wray will need Senate confirmation.\\n\\nWhy was Comey fired?\\n\\nThe White House cited a May 9 letter to Trump from Attorney General Jeff Sessions that attached a memo from Rod Rosenstein, the deputy attorney general, on “Restoring Confidence in the FBI” that recommended Comey’s dismissal.\\n\\nRosenstein’s memo said Comey erred in July 2016 by announcing the FBI had been examining Clinton’s use of a private email server and that the case should be closed without prosecution. Rosenstein’s view was that Comey’s decision to make a public statement broke with longstanding FBI precedent and should have been handled by the then-U.S. attorney general, Loretta Lynch.\\n\\nTrump called Comey a “showboat” and “grandstander” in an interview with NBC News on May 11, saying that he would have fired Comey regardless of Rosenstein’s recommendation.\\n\\nWas Comey’s firing related to the FBI’s Russia probe?\\n\\nComey told the Senate Intelligence Committee he believes his dismissal was directly related to the FBI’s Russia probe.\\n\\n“I know I was fired because of something about the way I was conducting the Russia investigation, was in some way putting pressure on him, in some way irritating him, and he decided to fire me because of that,” Comey said in his June 8 testimony.\\n\\nTrump asked Comey to end the agency’s investigation of Michael Flynn, his former national security adviser, and also to make some sort of public statement that he was not personally under investigation in order to clear “the cloud” hanging over his presidency, according Comey’s testimony.\\n\\nComey said he found it concerning that Trump would ask him to drop the agency’s probe of Flynn and declined to state publicly that Trump himself was not under investigation, in part because it would create a “duty to correct” if that changed.\\n\\n“I need loyalty, I expect loyalty,” Trump told Comey at a Jan. 27 dinner, according to Comey.\\n\\nLess than a week before he was fired, Comey told a congressional panel that it made him “mildly nauseous” that he may have affected the outcome of the election by publicly re-opening and then re-closing the Clinton email probe days before the election.\\n\\nIn an unorthodox move, Great America Alliance, an offshoot of a pro-Trump super PAC devoted to promoting the White House agenda, developed a television ad called “Showboat” to air as Comey testified. The ad claims Comey was “consumed with election meddling” at the expense of fighting terrorism.\\n\\nHas there been any fallout for Trump associates over contacts with Russia before, during or after the election campaign?\\n\\nFlynn was fired in February. The White House said he had misled Vice President Mike Pence about the contacts he had with Russia’s ambassador to the United States, Sergei Kislyak, before Trump took office.\\n\\nOn May 9, federal prosecutors issued grand jury subpoenas seeking business records from people who worked with Flynn when he was a private citizen. On May 10, the Senate Intelligence Committee issued the first subpoena in its Russia investigation, demanding documents from Flynn. He provided the first batch on June 6.\\n\\nSessions had to recuse himself from involvement in Russia-related probes at the Justice Department because he had not told Congress of his own contacts with Kislyak in 2016. Rosenstein is handling matters related to Russia and it is he who appointed Mueller as special counsel.\\n\\nIs Trump himself under investigation?\\n\\nMueller’s probe has expanded to include examining whether Trump obstructed justice by attempting to curtail the FBI’s probe of Russian meddling, the Washington Post reported on June 14.\\n\\nIn the short letter Trump sent to Comey dismissing him from the FBI, he had thanked Comey for informing him that he was not under investigation. Comey has confirmed that Trump was not personally under investigation at any point before his dismissal from the FBI.\\n\\nThe Post reported the scope of the probe expanded to include Trump shortly after Comey’s dismissal, citing government officials.\\n\\nTrump’s personal lawyer, Marc Kasowitz, denied Trump ever told Comey he needed and expected his loyalty.\",\n",
       "  'What we know about U.S. probes of Russian meddling in 2016 election',\n",
       "  'Reuters',\n",
       "  'https://www.reuters.com/article/us-usa-trump-russia-q-a/what-we-know-about-u-s-probes-of-russian-meddling-in-2016-election-idUSKBN19604O'),\n",
       " ('Sen. Mark Warner Discusses Latest Report On Russia\\'s Influence On 2016 Election\\n\\nNPR\\'s Mary Louise Kelly talks with Sen. Mark Warner on the Senate Intelligence Committee\\'s report on ex-Trump campaign chairman Paul Manafort\\'s contacts with Russian intelligence in the 2016 election.\\n\\nMARY LOUISE KELLY, HOST:\\n\\nA long-awaited report out today traces a direct line from President Trump\\'s 2016 campaign to Russian intelligence and government officials. This bipartisan finding comes courtesy of the Senate Intelligence Committee. And there are details that both confirm and build on the Mueller report. Top line - the Russians wanted Trump in office and did their level best to make it happen, and some of his advisers were all for it.\\n\\nDemocratic Senator Mark Warner is vice chair of the Senate Intelligence Committee. Senator, welcome back.\\n\\nMARK WARNER: Thanks for having me on.\\n\\nKELLY: So I remember interviewing you back in early 2017 at the beginning of your investigation. And you told me that you were keeping an open mind but - and I\\'ll quote you - \"boy, oh, boy, there\\'s a lot of smoke.\" So did you find fire?\\n\\nWARNER: Well, 3 1/2 years in, I\\'m proud that the Intelligence Committee has now put out five volumes of this report - this one, the most extensive in terms of the contact. And I will let every American who wants to read the report draw their own conclusions. But there was unprecedented level of contacts from Russians and their agents with the Trump campaign and Trump-related officials at a level that was unprecedented. And that is documented in this report in, you know, twice as much detail, arguably, as even what Mueller laid out. And I think what concerns me is here we are...\\n\\nKELLY: Certainly is the public version of the Mueller report...\\n\\nWARNER: Right. And here we are, you know, a few months away from another election. The Intelligence Committee has said, Russia will be back. China is back now, Iran. And yet we still, as a nation, have not passed any laws to try to actually make ourselves safer.\\n\\nKELLY: Well, that prompts my next question, which is what is your hope for the impact of this report? As you mentioned, the findings echo what Robert Mueller found, and those findings have already been picked apart and rejected by the president and his supporters.\\n\\nWARNER: Well, I think we have made some progress. Social media is better - not as good as it should be - but it\\'s better in terms of not being able to be disrupted and abused. Our election systems - the Department of Homeland Security has actually done a pretty darn good job of tightening the security of our election systems.\\n\\nI\\'m still very worried, though, that if a foreign entity - if Russia wanted to advertise on Facebook, they could do so without disclosing who they are. Or if a foreign service - a foreign government wanted to offer dirt on an opposing candidate to a presidential campaign, there\\'s no obligation to tell the FBI as opposed to saying thank you. So I worry that we\\'re not as safe as we should be, knowing that there are foreign governments that want to intervene.\\n\\nKELLY: I mean, you are dropping this report 77 days before the next election. How worried are you about election security and interference this time around?\\n\\nWARNER: Well, the American intelligence community came out 10 days ago and indicated Russia, now China, now Iran are all active because it\\'s both effective and cheap. And it\\'s not just interfering in our elections. I mean, the Russians in particular have intervened in many European elections - the French presidential election, the Brexit vote - because, again, it\\'s a lot cheaper than buying a new submarine or airplane. And I think Western democracies have to be on better guard on a going-forward basis. And unfortunately, this White House who refuses to acknowledge this, I think at least indirectly, helps the Russian case of undermining democracy.\\n\\nKELLY: Just a few seconds left - but after, as you said, more than 3 1/2 years of work, are there still key questions unanswered? What do you still not know?\\n\\nWARNER: There are still key questions, for example, of what the Russians did with the insider campaign information that Paul Manafort turned over. I\\'m not sure we\\'ll ever know. But I do know we\\'ve made some progress. DHS, as I mentioned, we\\'re getting better. Social media, we\\'re getting better. I just wish this White House would follow the lead of its own intelligence community and acknowledge this is an ongoing threat.\\n\\nKELLY: That is Senator Mark Warner of Virginia, vice chair of the Senate Intelligence Committee. Good to speak to you. Thank you, sir.\\n\\nWARNER: Bye-bye.\\n\\nCopyright © 2020 NPR. All rights reserved. Visit our website terms of use and permissions pages at www.npr.org for further information.\\n\\nNPR transcripts are created on a rush deadline by Verb8tm, Inc., an NPR contractor, and produced using a proprietary transcription process developed with NPR. This text may not be in its final form and may be updated or revised in the future. Accuracy and availability may vary. The authoritative record of NPR’s programming is the audio record.',\n",
       "  \"Sen. Mark Warner Discusses Latest Report On Russia's Influence On 2016 Election\",\n",
       "  'NPR (Online News)',\n",
       "  'https://www.npr.org/2020/08/18/903616280/sen-mark-warner-discusses-latest-report-on-russias-influence-on-2016-election')]"
      ]
     },
     "execution_count": 131,
     "metadata": {},
     "output_type": "execute_result"
    }
   ],
   "source": [
    "alt_articles"
   ]
  },
  {
   "cell_type": "code",
   "execution_count": 132,
   "metadata": {},
   "outputs": [
    {
     "name": "stdout",
     "output_type": "stream",
     "text": [
      "[0.7664443  0.78021121 0.76341044 0.73409674 0.67016612]\n",
      "[ True  True  True  True  True]\n"
     ]
    }
   ],
   "source": [
    "# keep similar articles\n",
    "zipped_similar = similar_documents(alt_articles)"
   ]
  },
  {
   "cell_type": "code",
   "execution_count": 133,
   "metadata": {},
   "outputs": [],
   "source": [
    "texts, title, sources, urls= zip(*zipped_similar)"
   ]
  },
  {
   "cell_type": "code",
   "execution_count": 96,
   "metadata": {},
   "outputs": [],
   "source": [
    "combine_text = \" \".join(texts)"
   ]
  },
  {
   "cell_type": "code",
   "execution_count": 104,
   "metadata": {},
   "outputs": [
    {
     "data": {
      "text/plain": [
       "'As the intelligence beat reporter for the Washington Post at the time, I watched these agencies grow in size, as dozens of new buildings appeared around the Washington region to house a ballooning workforce of over a million people with top-secret security clearances.\\nAnd yet, last year, these vastly larger agencies failed to defend, or even warn, the American public against the most audacious Russian covert operation toward the United States since the end of the Cold War. Only after the fact, when a Russian disinformation campaign had already tainted the 2016 Presidential election, did the Office of the Director of National Intelligence, another vast post-9/11 creation, disclose the Kremlin’s interference.\\nFacing one of the clearest domestic threats to the U.S. in a decade, neither the F.B.I., which has the responsibility for conducting counterintelligence inside the United States, nor the O.D.N.I. warned Americans that platoons of Russian-backed automated “bots” and human trolls were working online to amplify racial divisions and anti-government conspiracy theories.\\nThe F.B.I. deputy director, Andrew McCabe, admitted in a CNBC interview on October 4th that the U.S. intelligence community “should have predicted” the attacks “with more clarity, maybe, than we did.” “When you overlay these attacks onto what we’ve known on our counterintelligence side about the Russians for many years, it completely fits into their playbook,” he went on.\\nJohn Brennan, who served as the C.I.A. director from 2012 to 2016, has said that there was no way for U.S. intelligence officials to have seen such a Russian effort coming.\\nMany members of the intelligence community, or I.C., as the collective agencies are known, blame President Obama for being reluctant to publicly criticize the Russian campaign during the 2016 election.\\nI don’t think even that sentiment captures the scope of the failure, and neither do the foreign officials and experts who watched the Russian effort unfold in the United States.\\nAmong the first to document Russia’s online disinformation tactics was Olga Yurkova, a thirty-two-year-old journalist who recently graduated from the National University of Kyiv-Mohyla Academy School of Journalism.\\n“As responsible journalists, we had to do something with this.” The following day, Yurkova created a Web site called StopFake.org, which is dedicated to debunking fake news and identifying Russian disinformation.\\nThe center’s 2014 report on Russia’s campaign against Ukraine identified the same themes that the Kremlin would use against the United States two years later.\\nThe Presidential Administration, a Kremlin office under the direct authority of Vladimir Putin, “controls a large number of bloggers and trolls in the social media to spread information supporting Russia’s narrative and to silence opponents.” The report said that the bloggers use false personas and identities to flood Facebook and Twitter discussions.\\nAnother analyst who publicly identified Russian disinformation tactics more than two years ago is the former journalist Ben Nimmo, now an Edinburgh-based propaganda expert and senior fellow at the Atlantic Council’s Digital Forensic Research Lab. Nimmo first noticed Kremlin-linked social media interfering in Western democratic processes during the 2014 Scottish independence referendum, and he says that they remain active in the U.S. today.\\nDevaluing OSINT has become a more significant problem as Russia and China use social media as an arena to wage disinformation operations.\\nRussian disinformation operations in the United States continue unabated.\\nThere’s no change.” The official expressed worry because there has been no intense public debate in the United States, as there has been in the Baltics and Ukraine, about how to respond to Russian disinformation.'"
      ]
     },
     "execution_count": 104,
     "metadata": {},
     "output_type": "execute_result"
    }
   ],
   "source": [
    "texts[0]"
   ]
  },
  {
   "cell_type": "code",
   "execution_count": 97,
   "metadata": {},
   "outputs": [
    {
     "data": {
      "text/plain": [
       "'As the intelligence beat reporter for the Washington Post at the time, I watched these agencies grow in size, as dozens of new buildings appeared around the Washington region to house a ballooning workforce of over a million people with top-secret security clearances.\\nAnd yet, last year, these vastly larger agencies failed to defend, or even warn, the American public against the most audacious Russian covert operation toward the United States since the end of the Cold War. Only after the fact, when a Russian disinformation campaign had already tainted the 2016 Presidential election, did the Office of the Director of National Intelligence, another vast post-9/11 creation, disclose the Kremlin’s interference.\\nFacing one of the clearest domestic threats to the U.S. in a decade, neither the F.B.I., which has the responsibility for conducting counterintelligence inside the United States, nor the O.D.N.I. warned Americans that platoons of Russian-backed automated “bots” and human trolls were working online to amplify racial divisions and anti-government conspiracy theories.\\nThe F.B.I. deputy director, Andrew McCabe, admitted in a CNBC interview on October 4th that the U.S. intelligence community “should have predicted” the attacks “with more clarity, maybe, than we did.” “When you overlay these attacks onto what we’ve known on our counterintelligence side about the Russians for many years, it completely fits into their playbook,” he went on.\\nJohn Brennan, who served as the C.I.A. director from 2012 to 2016, has said that there was no way for U.S. intelligence officials to have seen such a Russian effort coming.\\nMany members of the intelligence community, or I.C., as the collective agencies are known, blame President Obama for being reluctant to publicly criticize the Russian campaign during the 2016 election.\\nI don’t think even that sentiment captures the scope of the failure, and neither do the foreign officials and experts who watched the Russian effort unfold in the United States.\\nAmong the first to document Russia’s online disinformation tactics was Olga Yurkova, a thirty-two-year-old journalist who recently graduated from the National University of Kyiv-Mohyla Academy School of Journalism.\\n“As responsible journalists, we had to do something with this.” The following day, Yurkova created a Web site called StopFake.org, which is dedicated to debunking fake news and identifying Russian disinformation.\\nThe center’s 2014 report on Russia’s campaign against Ukraine identified the same themes that the Kremlin would use against the United States two years later.\\nThe Presidential Administration, a Kremlin office under the direct authority of Vladimir Putin, “controls a large number of bloggers and trolls in the social media to spread information supporting Russia’s narrative and to silence opponents.” The report said that the bloggers use false personas and identities to flood Facebook and Twitter discussions.\\nAnother analyst who publicly identified Russian disinformation tactics more than two years ago is the former journalist Ben Nimmo, now an Edinburgh-based propaganda expert and senior fellow at the Atlantic Council’s Digital Forensic Research Lab. Nimmo first noticed Kremlin-linked social media interfering in Western democratic processes during the 2014 Scottish independence referendum, and he says that they remain active in the U.S. today.\\nDevaluing OSINT has become a more significant problem as Russia and China use social media as an arena to wage disinformation operations.\\nRussian disinformation operations in the United States continue unabated.\\nThere’s no change.” The official expressed worry because there has been no intense public debate in the United States, as there has been in the Baltics and Ukraine, about how to respond to Russian disinformation. The CIA has concluded that Russia interfered in the U.S. presidential election to help Donald Trump win.\\nWhat\\'s new is that the CIA says it is confident the Russians were acting with a specific goal in mind — to help Trump win.\\nAfter government officials had said so anonymously in press reports, the Department of Homeland Security and the Office of the Director of National Intelligence affirmed it openly, on the record.\\nIntelligence officials told the candidates and their campaigns about the evidence for the Russian hacking then, and later during one of the presidential debates Clinton hammered Trump over what she called the support by Russia.\\nTrump, then as now, said he didn\\'t know whether the Russians were trying to help him, or that he didn\\'t believe they were, and that no one could truly know what was happening in cyberspace.\\nBut Trump also told Fox News host Chris Wallace he\\'d be open to the investigation that Obama has ordered and that members of Congress also say they\\'ll conduct into the Russian meddling.\\n3. Russia did more during the election season than release emails\\nCommentators linked to the Kremlin talked openly about why they supported Trump and why they believed him to be a better candidate for Russia and the world.\\nThat could be why the two agencies disagree about the latest nuance of the Russia story: whether it\\'s possible to prove that Putin or other Russian leaders interfered in the election to help Trump.\\nAdm. Mike Rogers, director of the National Security Agency, said on Nov. 15 that he believes the Russians knew what they were doing.\\nSenate Majority Leader Mitch McConnell said Monday he is confident in the CIA and that the Senate Intelligence Committee and Senate Armed Services Committees were looking into the matter.\\nHouse Homeland Security Committee Chairman Michael McCaul said in September that the Republican National Committee also was hacked during the campaign.\\nMcCaul released a statement explaining that he had \"misspoken.\" On Friday, The New York Times reported that U.S. intelligence officials have briefed Congress that Russia in fact did steal information from the RNC.\\nGiven the conflicting public statements and the lack of information from the government, this could set up a whole new thread to the story — is the Kremlin holding what campaign operatives would call an \"oppo file\" on Trump or other Republicans? The assessment claims that Hillary Clinton, then a Democratic candidate for president, personally approved an effort “to stir up a scandal against U.S. Presidential candidate Donald Trump by tying him to Putin and the Russians\\' hacking of the Democratic National Committee.” But in his letter to Graham, Ratcliffe noted that the U.S. intelligence community “does not know the accuracy of this allegation or the extent to which the Russian intelligence analysis may reflect exaggeration or fabrication.”\\nThe Senate Intelligence Committee issued five reports on Russia’s sweeping effort to meddle in the 2016 election to boost Trump, ranging across thousands of pages.\\nAccording to Ratcliffe, former CIA Director John Brennan briefed former President Barack Obama on the Russian assessment, which included the allegation that Clinton approved the plan to tie Trump to the hack of the DNC after it was proposed by one of her foreign policy advisers.\\nGraham responded to his critics later Tuesday, saying that the veracity of the Russian intelligence assessment was irrelevant.\\nAnother former senior intelligence official said Brennan would frequently brief Obama on Russia’s actions regardless of whether it was about Trump or Clinton, adding that Brennan also wanted to “demonstrate the extent of the U.S. intelligence community’s ability to collect against Russia.” The Trump administration in early 2018 established a designated information-sharing center for election infrastructure, and Congress approved $380 million to be disbursed to states for election security.\\nBut Director of National Security Dan Coats, in a briefing to the Senate intelligence committee in January, warned that America’s adversaries “probably already are looking to the 2020 US elections,” and that they “almost certainly will use online influence operations to try to weaken democratic institutions, undermine US alliances and partnerships, and shape policy outcomes in the United States and elsewhere.”\\nThe recent publication of the Mueller report provided more details about the extent of Russia’s interference in the 2016 presidential election – and is creating a new sense of urgency around the question of what the U.S. is doing to prevent another such attack.\\nThe recent publication of the Mueller report provided more details about the extent of Russia’s interference in the 2016 presidential election, and Florida Gov. Ron DeSantis revealed today after meeting with the FBI that the Russians hacked into two counties\\' supervisor of elections networks.\\nAnd in a meeting with Russian Foreign Minister Sergey Lavrov today in Sochi, Russia, U.S. Secretary of State Mike Pompeo said he made clear that “interference in American elections is unacceptable.\\nIn early 2016, as Russia was stepping up its support for Mr. Trump, it opened a second front: hacking political organizations and publishing sensitive documents.\\nThe GRU, a Russian military intelligence unit, hacked the Clinton campaign’s email accounts and gained access to two national organizations of the Democratic Party, stealing hundreds of thousands of documents.\\nTo help states defend against such threats, the Trump administration in early 2018 established a designated information-sharing center for election infrastructure.\\nAround the same time, Congress approved $380 million to be disbursed to states for election security.\\nMore broadly,” he added, “US adversaries and strategic competitors almost certainly will use online influence operations to try to weaken democratic institutions, undermine US alliances and partnerships, and shape policy outcomes in the United States and elsewhere.”'"
      ]
     },
     "execution_count": 97,
     "metadata": {},
     "output_type": "execute_result"
    }
   ],
   "source": [
    "combine_text"
   ]
  },
  {
   "cell_type": "code",
   "execution_count": 88,
   "metadata": {},
   "outputs": [],
   "source": [
    "from gensim.summarization.summarizer import summarize"
   ]
  },
  {
   "cell_type": "code",
   "execution_count": 90,
   "metadata": {},
   "outputs": [
    {
     "data": {
      "text/plain": [
       "'The assessment claims that Hillary Clinton, then a Democratic candidate for president, personally approved an effort “to stir up a scandal against U.S. Presidential candidate Donald Trump by tying him to Putin and the Russians\\' hacking of the Democratic National Committee.” But in his letter to Graham, Ratcliffe noted that the U.S. intelligence community “does not know the accuracy of this allegation or the extent to which the Russian intelligence analysis may reflect exaggeration or fabrication.”\\nAccording to Ratcliffe, former CIA Director John Brennan briefed former President Barack Obama on the Russian assessment, which included the allegation that Clinton approved Intelligence Report: Russia Tried To Help Trump In 2020 Election\\nA new report by the U.S. intelligence community on Tuesday says Russia sought to help former President Donald Trump in last year\\'s presidential election.\\nRussian President Vladimir Putin authorized \"influence operations aimed at denigrating President Biden\\'s candidacy and the Democratic Party, supporting Trump, undermining public confidence in the electoral process and exacerbating socio-political divisions in the U.S,\" says the report by the Office of the Director of National Intelligence.\\nThe unclassified document is the most comprehensive look the intelligence community has released regarding foreign efforts to meddle in the 2020 election.\\nBut the central message is the same one the intelligence community has been delivering since last August: Russia wanted Trump to win, though its effort was not on the same scale as in the 2016 election.\\nThe CIA has concluded that Russia interfered in the U.S. presidential election to help Donald Trump win.'"
      ]
     },
     "execution_count": 90,
     "metadata": {},
     "output_type": "execute_result"
    }
   ],
   "source": [
    "summarize(combine_text)"
   ]
  },
  {
   "cell_type": "code",
   "execution_count": 75,
   "metadata": {},
   "outputs": [
    {
     "data": {
      "text/plain": [
       "('Intel chief releases Russian disinfo on Hillary Clinton that was rejected by bipartisan Senate panel',\n",
       " 'Intelligence Report: Russia Tried To Help Trump In 2020 Election',\n",
       " \"The Russian Hacking Controversy: What We Do And Don't Know\",\n",
       " 'Amid growing concerns about 2020, a primer on Russian election interference')"
      ]
     },
     "execution_count": 75,
     "metadata": {},
     "output_type": "execute_result"
    }
   ],
   "source": [
    "title"
   ]
  },
  {
   "cell_type": "code",
   "execution_count": 55,
   "metadata": {},
   "outputs": [
    {
     "data": {
      "text/plain": [
       "('Politico',\n",
       " 'NPR (Opinion) ',\n",
       " 'NPR (Online News)',\n",
       " 'Christian Science Monitor')"
      ]
     },
     "execution_count": 55,
     "metadata": {},
     "output_type": "execute_result"
    }
   ],
   "source": [
    "sources"
   ]
  },
  {
   "cell_type": "code",
   "execution_count": 56,
   "metadata": {},
   "outputs": [
    {
     "data": {
      "text/plain": [
       "('https://www.politico.com/news/2020/09/29/john-ratcliffe-hillary-clinton-russia-423022',\n",
       " 'https://www.npr.org/2021/03/16/977958302/intelligence-report-russia-tried-to-help-trump-in-2020-election',\n",
       " 'https://www.npr.org/sections/parallels/2016/12/12/505272992/the-russian-hacking-kerfuffle-what-we-do-and-dont-know',\n",
       " 'https://www.csmonitor.com/USA/Politics/2019/0514/Amid-growing-concerns-about-2020-a-primer-on-Russian-election-interference')"
      ]
     },
     "execution_count": 56,
     "metadata": {},
     "output_type": "execute_result"
    }
   ],
   "source": [
    "urls"
   ]
  },
  {
   "cell_type": "code",
   "execution_count": 140,
   "metadata": {},
   "outputs": [
    {
     "name": "stdout",
     "output_type": "stream",
     "text": [
      "['In 2008, in tandem with Israeli intelligence, the U.S. launched the first digital attack on another country’s critical infrastructure, deploying a “worm,” known as Stuxnet, that was designed to cause centrifuges in Iran to spin out of control and thereby delay its nuclear development.\\nKnake recalled, “The question was: ‘O.K., now, what’s the counter-Russia plan?\\nAnd the counter-Iran plan?’ ” The difficulty was that, in the aftermath of Stuxnet, the U.S. needed Iran’s coöperation on diplomatic priorities.', 'The nearly-1,000 page report from the Senate Intelligence Committee, its fifth and final examination of a years-long effort to probe Russian meddling in 2016, describes several episodes in which Trump and members of his campaign were keen to accept Russia’s help -- and in some instances goes further than even former special counsel Robert Mueller in detailing ties between the campaign and Russian individuals.\\nAnd in agreement with the intelligence community’s 2017 assessment on Russia’s interference, the report states definitively that Russian President Vladimir Putin \"ordered the Russian effort to hack computer networks and accounts affiliated with the Democratic Party and leak information damaging to Hillary Clinton and her campaign for president.\"', \"With new details from the Mueller report about Russia’s interference in the U.S. in 2016, here’s an overview of what happened – and whether it might happen again.\\nThe recent publication of the Mueller report provided more details about the extent of Russia’s interference in the 2016 presidential election – and is creating a new sense of urgency around the question of what the U.S. is doing to prevent another such attack.\\nThe recent publication of the Mueller report provided more details about the extent of Russia’s interference in the 2016 presidential election, and Florida Gov. Ron DeSantis revealed today after meeting with the FBI that the Russians hacked into two counties' supervisor of elections networks.\", '(Reuters) - U.S. intelligence agencies have alleged that Russia interfered in the 2016 presidential election to benefit President Donald Trump.\\nFormer President Barack Obama ordered U.S. intelligence agencies to assess whether Russia tried to intervene in the election after a cyber attack on the Democratic National Committee in July 2016 and the publication of thousands of hacked personal emails from Hillary Clinton’s campaign manager in the month before the Nov. 8 election.\\nThe agencies said Putin and the Russian government had a clear preference for Trump to win the White House.\\nComey told the House Intelligence Committee on March 20 that the FBI was investigating Moscow’s role in the election, including possible collusion with Trump’s campaign.']\n",
      "Got the pegasus summary in 71.3009 seconds\n"
     ]
    }
   ],
   "source": [
    "summary = summarization(texts)"
   ]
  },
  {
   "cell_type": "code",
   "execution_count": 141,
   "metadata": {
    "scrolled": true
   },
   "outputs": [
    {
     "data": {
      "text/plain": [
       "['Russia’s alleged interference in the 2016 presidential election was part of a broader effort by Moscow to meddle in the American political system in order to benefit President Donald Trump, according to a report released this week by the special counsel Robert Mueller, who is investigating possible ties between the Trump campaign and Russia.']"
      ]
     },
     "execution_count": 141,
     "metadata": {},
     "output_type": "execute_result"
    }
   ],
   "source": [
    "summary"
   ]
  },
  {
   "cell_type": "markdown",
   "metadata": {},
   "source": [
    "2 functions for summarization\n",
    "\n",
    "1. summarization of article - input an article - output a pegasus sumarization of article - up to one sentence, month and year\n",
    "\n",
    "2. summarization of similar articles - input urls of articles - pegasus or newspaper (extractive) of articles - get document similarity to make sure talking about the same subject/event/issue, then pegasus & T5 sumarize the summaries to get a general overview of the articles."
   ]
  },
  {
   "cell_type": "code",
   "execution_count": 122,
   "metadata": {},
   "outputs": [
    {
     "ename": "ArticleException",
     "evalue": "Article `download()` failed with 403 Client Error: Forbidden for url: https://www.wsj.com/articles/mcconnell-threatens-pileup-if-democrats-change-filibuster-rules-11615908931 on URL https://www.wsj.com/articles/mcconnell-threatens-pileup-if-democrats-change-filibuster-rules-11615908931",
     "output_type": "error",
     "traceback": [
      "\u001b[1;31m---------------------------------------------------------------------------\u001b[0m",
      "\u001b[1;31mArticleException\u001b[0m                          Traceback (most recent call last)",
      "\u001b[1;32m<ipython-input-122-3665178d7bcc>\u001b[0m in \u001b[0;36m<module>\u001b[1;34m\u001b[0m\n\u001b[0;32m      1\u001b[0m \u001b[0marticle\u001b[0m \u001b[1;33m=\u001b[0m \u001b[0mArticle\u001b[0m\u001b[1;33m(\u001b[0m\u001b[0marticle_url\u001b[0m\u001b[1;33m)\u001b[0m\u001b[1;33m\u001b[0m\u001b[1;33m\u001b[0m\u001b[0m\n\u001b[0;32m      2\u001b[0m \u001b[0marticle\u001b[0m\u001b[1;33m.\u001b[0m\u001b[0mdownload\u001b[0m\u001b[1;33m(\u001b[0m\u001b[1;33m)\u001b[0m\u001b[1;33m\u001b[0m\u001b[1;33m\u001b[0m\u001b[0m\n\u001b[1;32m----> 3\u001b[1;33m \u001b[0marticle\u001b[0m\u001b[1;33m.\u001b[0m\u001b[0mparse\u001b[0m\u001b[1;33m(\u001b[0m\u001b[1;33m)\u001b[0m\u001b[1;33m\u001b[0m\u001b[1;33m\u001b[0m\u001b[0m\n\u001b[0m\u001b[0;32m      4\u001b[0m \u001b[0mtxt\u001b[0m \u001b[1;33m=\u001b[0m \u001b[0marticle\u001b[0m\u001b[1;33m.\u001b[0m\u001b[0mtext\u001b[0m\u001b[1;33m\u001b[0m\u001b[1;33m\u001b[0m\u001b[0m\n",
      "\u001b[1;32m~\\Anaconda3\\lib\\site-packages\\newspaper\\article.py\u001b[0m in \u001b[0;36mparse\u001b[1;34m(self)\u001b[0m\n\u001b[0;32m    189\u001b[0m \u001b[1;33m\u001b[0m\u001b[0m\n\u001b[0;32m    190\u001b[0m     \u001b[1;32mdef\u001b[0m \u001b[0mparse\u001b[0m\u001b[1;33m(\u001b[0m\u001b[0mself\u001b[0m\u001b[1;33m)\u001b[0m\u001b[1;33m:\u001b[0m\u001b[1;33m\u001b[0m\u001b[1;33m\u001b[0m\u001b[0m\n\u001b[1;32m--> 191\u001b[1;33m         \u001b[0mself\u001b[0m\u001b[1;33m.\u001b[0m\u001b[0mthrow_if_not_downloaded_verbose\u001b[0m\u001b[1;33m(\u001b[0m\u001b[1;33m)\u001b[0m\u001b[1;33m\u001b[0m\u001b[1;33m\u001b[0m\u001b[0m\n\u001b[0m\u001b[0;32m    192\u001b[0m \u001b[1;33m\u001b[0m\u001b[0m\n\u001b[0;32m    193\u001b[0m         \u001b[0mself\u001b[0m\u001b[1;33m.\u001b[0m\u001b[0mdoc\u001b[0m \u001b[1;33m=\u001b[0m \u001b[0mself\u001b[0m\u001b[1;33m.\u001b[0m\u001b[0mconfig\u001b[0m\u001b[1;33m.\u001b[0m\u001b[0mget_parser\u001b[0m\u001b[1;33m(\u001b[0m\u001b[1;33m)\u001b[0m\u001b[1;33m.\u001b[0m\u001b[0mfromstring\u001b[0m\u001b[1;33m(\u001b[0m\u001b[0mself\u001b[0m\u001b[1;33m.\u001b[0m\u001b[0mhtml\u001b[0m\u001b[1;33m)\u001b[0m\u001b[1;33m\u001b[0m\u001b[1;33m\u001b[0m\u001b[0m\n",
      "\u001b[1;32m~\\Anaconda3\\lib\\site-packages\\newspaper\\article.py\u001b[0m in \u001b[0;36mthrow_if_not_downloaded_verbose\u001b[1;34m(self)\u001b[0m\n\u001b[0;32m    530\u001b[0m         \u001b[1;32melif\u001b[0m \u001b[0mself\u001b[0m\u001b[1;33m.\u001b[0m\u001b[0mdownload_state\u001b[0m \u001b[1;33m==\u001b[0m \u001b[0mArticleDownloadState\u001b[0m\u001b[1;33m.\u001b[0m\u001b[0mFAILED_RESPONSE\u001b[0m\u001b[1;33m:\u001b[0m\u001b[1;33m\u001b[0m\u001b[1;33m\u001b[0m\u001b[0m\n\u001b[0;32m    531\u001b[0m             raise ArticleException('Article `download()` failed with %s on URL %s' %\n\u001b[1;32m--> 532\u001b[1;33m                   (self.download_exception_msg, self.url))\n\u001b[0m\u001b[0;32m    533\u001b[0m \u001b[1;33m\u001b[0m\u001b[0m\n\u001b[0;32m    534\u001b[0m     \u001b[1;32mdef\u001b[0m \u001b[0mthrow_if_not_parsed_verbose\u001b[0m\u001b[1;33m(\u001b[0m\u001b[0mself\u001b[0m\u001b[1;33m)\u001b[0m\u001b[1;33m:\u001b[0m\u001b[1;33m\u001b[0m\u001b[1;33m\u001b[0m\u001b[0m\n",
      "\u001b[1;31mArticleException\u001b[0m: Article `download()` failed with 403 Client Error: Forbidden for url: https://www.wsj.com/articles/mcconnell-threatens-pileup-if-democrats-change-filibuster-rules-11615908931 on URL https://www.wsj.com/articles/mcconnell-threatens-pileup-if-democrats-change-filibuster-rules-11615908931"
     ]
    }
   ],
   "source": [
    "        article = Article(article_url)\n",
    "        article.download()\n",
    "        article.parse()\n",
    "        txt = article.text"
   ]
  },
  {
   "cell_type": "code",
   "execution_count": 18,
   "metadata": {
    "scrolled": false
   },
   "outputs": [],
   "source": [
    "txt = 'Speculation that President Joe Biden and the Democratic National Committee are petitioning cellphone carriers to monitor and edit private text messages is false, DNC and White House officials tell the Washington Examiner.\\n\\nStill, political operatives from both parties have made a practice of monitoring mass text blasts from the other side in recent years as SMS marketing has exploded as a tool for political campaigns, fundraising groups, and even private sector businesses.\\n\\nThe notion of new Democratic-backed SMS surveillance popped up in conservative circles after Politico published an article Monday that included a line that the DNC and other Biden-allied groups were \"planning to engage fact-checkers more aggressively and work with SMS carriers to dispel misinformation about vaccines that is sent over social media and text messages.\"\\n\\n\"The goal is to ensure that people who may have difficulty getting a vaccination because of issues like transportation see those barriers lessened or removed entirely,\" the article read.\\n\\nTRUMP CAMPAIGN FUNDRAISING THREATENED BY SPAM TEXTING ALLEGATIONS\\n\\nA DNC official told the Washington Examiner that the Democratic Party has been training its grassroots volunteers to sign up for various mass email lists from Republican-affiliated groups since 2019 and to flag noteworthy messages for the communications team.\\n\\nSimilarly, a Republican digital campaigns expert also confirmed that GOP operatives and volunteers frequently sign up to receive text messages from Democratic campaigns and affiliated groups in order to stay one step ahead of the competition.\\n\\nReferencing Politico\\'s report, the DNC official conceded that they have added another internal step to their SMS process as a means of combating vaccine misinformation but emphatically stated that the DNC has not and will not lobby SMS carriers, such as AT&T, T-Mobile, or Verizon, to monitor any text messages distributed at both the bulk list or peer-to-peer level.\\n\\nP2P messaging refers to any text conversation exchanged between two people. Bulk list messaging requires recipients to opt-in to receive communications from an automated sender, such as the Biden campaign\\'s \"30330\" and Trump campaign\\'s \"88022\" blasts or even online retailers.\\n\\nSenders may seek to grow their own reach by either building those lists organically or purchasing numbers from lists owned by other groups or private communications companies.\\n\\nHOUSE GOP DIGITAL FUNDRAISING ARM OUTRAISES DEMOCRATS FOR FIRST TIME\\n\\nThe DNC official said that Politico \"didn\\'t do a great job\" and \"fueled a lot of embellishment and speculation\" about the new initiative. That new process sees communications officials take the misleading bulk texts about vaccines flagged by volunteers and then forward them to SMS aggregator companies, such as Twilio or Bandwidth, \"who either work with a mass texting client or have companies that work with mass texting clients,\" the official said.\\n\\nThose aggregator companies all have \"fair use and abuse\" policies but \"almost all of the time\" have no visibility on what their clients are actually sending, \"so all we do is say, \\'Hey, did you know that you were sending out these messages?\\'\" the official added.\\n\\n\"The idea that, like, Joe Biden is reading everyone\\'s text messages, that\\'s not what happening,\" the DNC official said.\\n\\nSources on both sides noted that federal law prohibits SMS carriers from monitoring P2P messaging without a warrant, although carriers may deploy machine learning technology to block some bulk messages that violate fair use practices from being delivered.\\n\\nWhite House officials also told the Washington Examiner that though some administration officials, such as White House press secretary Jen Psaki and Dr. Anthony Fauci, have ramped up efforts to publicly dispute vaccine misinformation, the administration itself has nothing to do with the DNC initiative.\\n\\n\"We are steadfastly committed to keeping politics out of the effort to get every American vaccinated so that we can save lives and help our economy further recover,\" White House spokesperson Kevin Munoz previously told Politico. \"When we see deliberate efforts to spread misinformation, we view that as an impediment to the country\\'s public health and will not shy away from calling that out.\"\\n\\nConservatives reacted with ire on social media to Politico\\'s report, and some right-leaning television programs told their viewers that the president and his party were working to monitor their private text messages.\\n\\nYOUNG ADULTS SANK BIDEN\\'S VACCINE GOAL. HERE\\'S HOW THE WHITE HOUSE PLANS TO GET SHOTS IN THEIR ARMS\\n\\n\"Biden’s regime has announced they’ll be working with SMS providers to stop vaccine \\'misinformation\\' spread via text messages,\" freshman Colorado Republican Rep. Lauren Boebert tweeted. \"This is on the same day the White House said they support local officials who implement mandatory vaccines. No wonder they can’t condemn Communism.\"\\n\\nBiden’s regime has announced they’ll be working with SMS providers to stop vaccine “misinformation” spread via text messages.\\n\\n\\n\\nThis is on the same day the White House said they support local officials who implement mandatory vaccines.\\n\\n\\n\\nNo wonder they can’t condemn Communism. — Lauren Boebert (@laurenboebert) July 12, 2021\\n\\nMissouri Republican Sen. Josh Hawley suggested that the misinformation campaign was an effort to \"force vaccine compliance and who knows what else.\"\\n\\nCLICK HERE TO READ MORE FROM THE WASHINGTON EXAMINER\\n\\nSo now the Biden Administration wants to get into people’s text messages … to force vaccine compliance and who knows what else https://t.co/Q1v1qkOOfB — Josh Hawley (@HawleyMO) July 13, 2021\\n\\n\"Yes, we can allay the concerns of the excessively paranoid by tracking the content they send via text message,\" Noah Rothman, an editor at Commentary, wrote.'\n"
   ]
  },
  {
   "cell_type": "code",
   "execution_count": 31,
   "metadata": {},
   "outputs": [],
   "source": [
    "list_txt = [['For the first time since the Cold War, the United States has publicly admitted that Russia meddled in the 2016 presidential election in order to help Donald Trump and hurt his Democratic opponent, Hillary Clinton, by damaging their election and undermining public faith in the American political system, according to a new report.'], ['With new details from the Mueller report about Russia’s interference in the 2016 presidential election, an overview of what we know about what happened last time around and what the United States is doing to prevent another such attack, here’s a new sense of urgency around the question of what the U.S.'], ['Here is a guide to the controversy surrounding alleged Russian meddling in the 2016 presidential election and possible ties between President Donald Trump’s campaign team and Moscow, as well as the various investigations into the matter. (This article has been revised to reflect that the special counsel has been appointed, not that the Justice Department has appointed a special counsel.'], ['A look at some of the claims made in a series of letters sent by top Republicans and Democrats to the White House last week about alleged Russian interference in last year’s election and President Donald Trump’s links to the Kremlin, as reported by the Associated Press and other news outlets on Tuesday.']]"
   ]
  },
  {
   "cell_type": "code",
   "execution_count": 41,
   "metadata": {},
   "outputs": [],
   "source": [
    "newlist = [item for items in list_txt for item in items]"
   ]
  },
  {
   "cell_type": "code",
   "execution_count": 42,
   "metadata": {},
   "outputs": [
    {
     "data": {
      "text/plain": [
       "['For the first time since the Cold War, the United States has publicly admitted that Russia meddled in the 2016 presidential election in order to help Donald Trump and hurt his Democratic opponent, Hillary Clinton, by damaging their election and undermining public faith in the American political system, according to a new report.',\n",
       " 'With new details from the Mueller report about Russia’s interference in the 2016 presidential election, an overview of what we know about what happened last time around and what the United States is doing to prevent another such attack, here’s a new sense of urgency around the question of what the U.S.',\n",
       " 'Here is a guide to the controversy surrounding alleged Russian meddling in the 2016 presidential election and possible ties between President Donald Trump’s campaign team and Moscow, as well as the various investigations into the matter. (This article has been revised to reflect that the special counsel has been appointed, not that the Justice Department has appointed a special counsel.',\n",
       " 'A look at some of the claims made in a series of letters sent by top Republicans and Democrats to the White House last week about alleged Russian interference in last year’s election and President Donald Trump’s links to the Kremlin, as reported by the Associated Press and other news outlets on Tuesday.']"
      ]
     },
     "execution_count": 42,
     "metadata": {},
     "output_type": "execute_result"
    }
   ],
   "source": [
    "newlist"
   ]
  },
  {
   "cell_type": "code",
   "execution_count": 29,
   "metadata": {},
   "outputs": [
    {
     "data": {
      "text/plain": [
       "'Speculation that President Joe Biden and the Democratic National Committee are petitioning cellphone carriers to monitor and edit private text messages is false, DNC and White House officials tell the Washington Examiner.\\n\\nStill, political operatives from both parties have made a practice of monitoring mass text blasts from the other side in recent years as SMS marketing has exploded as a tool for political campaigns, fundraising groups, and even private sector businesses.\\n\\nThe notion of new Democratic-backed SMS surveillance popped up in conservative circles after Politico published an article Monday that included a line that the DNC and other Biden-allied groups were \"planning to engage fact-checkers more aggressively and work with SMS carriers to dispel misinformation about vaccines that is sent over social media and text messages.\"\\n\\n\"The goal is to ensure that people who may have difficulty getting a vaccination because of issues like transportation see those barriers lessened or removed entirely,\" the article read.\\n\\nTRUMP CAMPAIGN FUNDRAISING THREATENED BY SPAM TEXTING ALLEGATIONS\\n\\nA DNC official told the Washington Examiner that the Democratic Party has been training its grassroots volunteers to sign up for various mass email lists from Republican-affiliated groups since 2019 and to flag noteworthy messages for the communications team.\\n\\nSimilarly, a Republican'"
      ]
     },
     "execution_count": 29,
     "metadata": {},
     "output_type": "execute_result"
    }
   ],
   "source": [
    "\" \".join(txt.split(\" \")[:200])"
   ]
  },
  {
   "cell_type": "code",
   "execution_count": null,
   "metadata": {},
   "outputs": [],
   "source": [
    "[\"’\"]?(A-Z)(((Mr|Ms|Mrs|Dr|Capt|Col)\\.\\s+((?!\\w{2,}[.?!][’\"]?\\s+[\"’]?[A-Z]).))?)((?![.?!][\"’]?\\s+[\"’]?[A-Z]).)[.?!]+[\"’\"]?"
   ]
  },
  {
   "cell_type": "code",
   "execution_count": null,
   "metadata": {},
   "outputs": [],
   "source": [
    "    tic = time.perf_counter()\n",
    "    toc = time.perf_counter()\n",
    "    print(f\"Downloaded the tutorial in {toc - tic:0.4f} seconds\")"
   ]
  }
 ],
 "metadata": {
  "kernelspec": {
   "display_name": "Python 3",
   "language": "python",
   "name": "python3"
  },
  "language_info": {
   "codemirror_mode": {
    "name": "ipython",
    "version": 3
   },
   "file_extension": ".py",
   "mimetype": "text/x-python",
   "name": "python",
   "nbconvert_exporter": "python",
   "pygments_lexer": "ipython3",
   "version": "3.7.1"
  }
 },
 "nbformat": 4,
 "nbformat_minor": 2
}

{
 "cells": [
  {
   "cell_type": "code",
   "execution_count": 1,
   "metadata": {},
   "outputs": [],
   "source": [
    "# for webscraping\n",
    "from googlesearch import search\n",
    "from bs4 import BeautifulSoup\n",
    "import requests\n",
    "import re\n",
    "import pandas as pd"
   ]
  },
  {
   "cell_type": "code",
   "execution_count": 2,
   "metadata": {},
   "outputs": [],
   "source": [
    "# !pip install beautifulsoup4\n",
    "# !pip install googlesearch-python"
   ]
  },
  {
   "cell_type": "code",
   "execution_count": 3,
   "metadata": {},
   "outputs": [],
   "source": [
    "bias_rating_url = \"https://www.allsides.com/media-bias/media-bias-ratings\""
   ]
  },
  {
   "cell_type": "code",
   "execution_count": 4,
   "metadata": {},
   "outputs": [],
   "source": [
    "bias_page = requests.get(bias_rating_url)\n",
    "bias_soup = BeautifulSoup(bias_page.content, 'html.parser')"
   ]
  },
  {
   "cell_type": "code",
   "execution_count": 5,
   "metadata": {},
   "outputs": [],
   "source": [
    "# webscrape the sources name and bias\n",
    "\n",
    "content = bias_soup.find_all(id = 'content')[0]\n",
    "table = content.find_all(class_ = 'views-table cols-4')[0]\n",
    "\n",
    "source_titles = table.tbody.find_all(class_ = 'views-field views-field-title source-title')\n",
    "source_biases = table.tbody.find_all(class_ = 'views-field views-field-field-bias-image')"
   ]
  },
  {
   "cell_type": "code",
   "execution_count": 6,
   "metadata": {},
   "outputs": [],
   "source": [
    "news_sources = []\n",
    "news_biases = []\n",
    "news_homepage = []\n",
    "for i in range(len(source_titles)):\n",
    "    source_name = source_titles[i].a.text\n",
    "    # common sources\n",
    "    if (source_name == 'CBS News (Online)') or (\n",
    "        source_name == \"CNN (Opinion)\") or (\n",
    "        source_name == 'Fox News (Opinion)') or (\n",
    "        source_name == 'AP Politics & Fact Check') or (\n",
    "        source_name == 'New York Times (Opinion)') or (\n",
    "        source_name == 'NPR (Opinion)') or (\n",
    "        source_name == 'Wall Street Journal (Opinion)'):\n",
    "        continue\n",
    "    news_sources.append(source_name)\n",
    "    news_url = next(search(source_titles[i].a.text))\n",
    "    news_url =  re.findall(r\"^.+\\.com|^.+\\.org|^.+\\.uk\", news_url)[0]\n",
    "    news_homepage.append(news_url)\n",
    "    news_biases.append(source_biases[i].a.get('href').strip('/media-bias/').split(\"-\")[0])"
   ]
  },
  {
   "cell_type": "code",
   "execution_count": 7,
   "metadata": {},
   "outputs": [],
   "source": [
    "# put the news sources and biases in a dataframe: data\n",
    "data = pd.DataFrame(data = {'source':news_sources,\n",
    "                            'website':news_homepage,\n",
    "                            'bias': news_biases})"
   ]
  },
  {
   "cell_type": "code",
   "execution_count": 8,
   "metadata": {},
   "outputs": [
    {
     "data": {
      "text/html": [
       "<div>\n",
       "<style scoped>\n",
       "    .dataframe tbody tr th:only-of-type {\n",
       "        vertical-align: middle;\n",
       "    }\n",
       "\n",
       "    .dataframe tbody tr th {\n",
       "        vertical-align: top;\n",
       "    }\n",
       "\n",
       "    .dataframe thead th {\n",
       "        text-align: right;\n",
       "    }\n",
       "</style>\n",
       "<table border=\"1\" class=\"dataframe\">\n",
       "  <thead>\n",
       "    <tr style=\"text-align: right;\">\n",
       "      <th></th>\n",
       "      <th>source</th>\n",
       "      <th>website</th>\n",
       "      <th>bias</th>\n",
       "    </tr>\n",
       "  </thead>\n",
       "  <tbody>\n",
       "    <tr>\n",
       "      <th>0</th>\n",
       "      <td>ABC News (Online)</td>\n",
       "      <td>https://abcnews.go.com</td>\n",
       "      <td>left</td>\n",
       "    </tr>\n",
       "    <tr>\n",
       "      <th>1</th>\n",
       "      <td>AlterNet</td>\n",
       "      <td>https://www.alternet.org</td>\n",
       "      <td>left</td>\n",
       "    </tr>\n",
       "    <tr>\n",
       "      <th>2</th>\n",
       "      <td>Associated Press</td>\n",
       "      <td>https://apnews.com</td>\n",
       "      <td>center</td>\n",
       "    </tr>\n",
       "    <tr>\n",
       "      <th>3</th>\n",
       "      <td>Axios</td>\n",
       "      <td>https://www.axios.com</td>\n",
       "      <td>center</td>\n",
       "    </tr>\n",
       "    <tr>\n",
       "      <th>4</th>\n",
       "      <td>BBC News</td>\n",
       "      <td>https://www.bbc.com</td>\n",
       "      <td>center</td>\n",
       "    </tr>\n",
       "  </tbody>\n",
       "</table>\n",
       "</div>"
      ],
      "text/plain": [
       "              source                   website    bias\n",
       "0  ABC News (Online)    https://abcnews.go.com    left\n",
       "1           AlterNet  https://www.alternet.org    left\n",
       "2   Associated Press        https://apnews.com  center\n",
       "3              Axios     https://www.axios.com  center\n",
       "4           BBC News       https://www.bbc.com  center"
      ]
     },
     "execution_count": 8,
     "metadata": {},
     "output_type": "execute_result"
    }
   ],
   "source": [
    "data.head()"
   ]
  },
  {
   "cell_type": "code",
   "execution_count": 9,
   "metadata": {},
   "outputs": [],
   "source": [
    "data.to_csv('bias_df.csv')"
   ]
  },
  {
   "cell_type": "code",
   "execution_count": null,
   "metadata": {},
   "outputs": [],
   "source": []
  }
 ],
 "metadata": {
  "kernelspec": {
   "display_name": "Python 3",
   "language": "python",
   "name": "python3"
  },
  "language_info": {
   "codemirror_mode": {
    "name": "ipython",
    "version": 3
   },
   "file_extension": ".py",
   "mimetype": "text/x-python",
   "name": "python",
   "nbconvert_exporter": "python",
   "pygments_lexer": "ipython3",
   "version": "3.7.1"
  }
 },
 "nbformat": 4,
 "nbformat_minor": 2
}
